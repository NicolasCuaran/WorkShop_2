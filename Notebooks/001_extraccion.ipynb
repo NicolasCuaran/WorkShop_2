{
 "cells": [
  {
   "cell_type": "markdown",
   "id": "5ef9b6e1",
   "metadata": {},
   "source": [
    "Workshop #2\n",
    "Load of raw data - the_grammy_awards dataset\n",
    "In this notebook, we are working with the the_grammy_awards dataset. The workflow includes setting up the project directory, importing necessary dependencies, loading raw data from a CSV file into a Pandas DataFrame, and uploading the data to a PostgreSQL database for further analysis.\n",
    "\n",
    "With this workflow, we demonstrate the process of data ingestion and initial exploration, setting the stage for more detailed analysis and insights.\n",
    "\n",
    "Setting the project directory\n",
    "This script attempts to change the current working directory to the specified path. If the directory change fails due to the directory not being found, it prints a message indicating that the user is already in the correct directory."
   ]
  },
  {
   "cell_type": "code",
   "execution_count": 1,
   "id": "359803a2",
   "metadata": {},
   "outputs": [],
   "source": [
    "import pandas as pd\n",
    "from sqlalchemy import create_engine\n",
    "from dotenv import load_dotenv\n",
    "import os"
   ]
  },
  {
   "cell_type": "code",
   "execution_count": 6,
   "id": "fd5c671b",
   "metadata": {},
   "outputs": [
    {
     "data": {
      "text/plain": [
       "True"
      ]
     },
     "execution_count": 6,
     "metadata": {},
     "output_type": "execute_result"
    }
   ],
   "source": [
    "load_dotenv(dotenv_path='../.env')"
   ]
  },
  {
   "cell_type": "code",
   "execution_count": 11,
   "id": "92e9aad6",
   "metadata": {},
   "outputs": [],
   "source": [
    "DB_USER = os.getenv(\"PG_USER\")\n",
    "DB_PASS = os.getenv(\"PG_PASSWORD\")\n",
    "DB_HOST = os.getenv(\"PG_HOST\")\n",
    "DB_PORT = os.getenv(\"PG_PORT\")\n",
    "DB_NAME = os.getenv(\"PG_DATABASE\")"
   ]
  },
  {
   "cell_type": "code",
   "execution_count": null,
   "id": "ef2e559f",
   "metadata": {},
   "outputs": [],
   "source": [
    "engine = create_engine(f\"postgresql://{DB_USER}:{DB_PASS}@{DB_HOST}:{DB_PORT}/{DB_NAME}\")"
   ]
  },
  {
   "cell_type": "code",
   "execution_count": 13,
   "id": "1dbad6f9",
   "metadata": {},
   "outputs": [],
   "source": [
    "df_grammy = pd.read_csv(\"../Data/the_grammy_awards.csv\")"
   ]
  },
  {
   "cell_type": "code",
   "execution_count": 14,
   "id": "f5df9772",
   "metadata": {},
   "outputs": [
    {
     "data": {
      "text/plain": [
       "810"
      ]
     },
     "execution_count": 14,
     "metadata": {},
     "output_type": "execute_result"
    }
   ],
   "source": [
    "df_grammy.to_sql(\"grammy_awards\", engine, if_exists=\"replace\", index=False)"
   ]
  }
 ],
 "metadata": {
  "kernelspec": {
   "display_name": "venv",
   "language": "python",
   "name": "python3"
  },
  "language_info": {
   "codemirror_mode": {
    "name": "ipython",
    "version": 3
   },
   "file_extension": ".py",
   "mimetype": "text/x-python",
   "name": "python",
   "nbconvert_exporter": "python",
   "pygments_lexer": "ipython3",
   "version": "3.11.4"
  }
 },
 "nbformat": 4,
 "nbformat_minor": 5
}
