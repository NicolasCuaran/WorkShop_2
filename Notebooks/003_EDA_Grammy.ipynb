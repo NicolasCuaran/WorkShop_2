{
 "cells": [
  {
   "cell_type": "code",
   "execution_count": 43,
   "id": "6c962bb1",
   "metadata": {},
   "outputs": [],
   "source": [
    "import pandas as pd\n",
    "import matplotlib.pyplot as plt\n",
    "import seaborn as sns\n",
    "from collections import Counter\n",
    "from sqlalchemy import create_engine\n",
    "from dotenv import load_dotenv\n",
    "import os\n",
    "import re"
   ]
  },
  {
   "cell_type": "code",
   "execution_count": 6,
   "id": "32417021",
   "metadata": {},
   "outputs": [
    {
     "data": {
      "text/plain": [
       "True"
      ]
     },
     "execution_count": 6,
     "metadata": {},
     "output_type": "execute_result"
    }
   ],
   "source": [
    "load_dotenv(dotenv_path='../.env')"
   ]
  },
  {
   "cell_type": "code",
   "execution_count": 7,
   "id": "445dbe77",
   "metadata": {},
   "outputs": [],
   "source": [
    "DB_USER = os.getenv(\"PG_USER\")\n",
    "DB_PASS = os.getenv(\"PG_PASSWORD\")\n",
    "DB_HOST = os.getenv(\"PG_HOST\")\n",
    "DB_PORT = os.getenv(\"PG_PORT\")\n",
    "DB_NAME = os.getenv(\"PG_DATABASE\")"
   ]
  },
  {
   "cell_type": "code",
   "execution_count": 8,
   "id": "4d9e452d",
   "metadata": {},
   "outputs": [],
   "source": [
    "engine = create_engine(f\"postgresql://{DB_USER}:{DB_PASS}@{DB_HOST}:{DB_PORT}/{DB_NAME}\")"
   ]
  },
  {
   "cell_type": "code",
   "execution_count": 12,
   "id": "024de3b3",
   "metadata": {},
   "outputs": [
    {
     "data": {
      "text/html": [
       "<div>\n",
       "<style scoped>\n",
       "    .dataframe tbody tr th:only-of-type {\n",
       "        vertical-align: middle;\n",
       "    }\n",
       "\n",
       "    .dataframe tbody tr th {\n",
       "        vertical-align: top;\n",
       "    }\n",
       "\n",
       "    .dataframe thead th {\n",
       "        text-align: right;\n",
       "    }\n",
       "</style>\n",
       "<table border=\"1\" class=\"dataframe\">\n",
       "  <thead>\n",
       "    <tr style=\"text-align: right;\">\n",
       "      <th></th>\n",
       "      <th>year</th>\n",
       "      <th>title</th>\n",
       "      <th>published_at</th>\n",
       "      <th>updated_at</th>\n",
       "      <th>category</th>\n",
       "      <th>nominee</th>\n",
       "      <th>artist</th>\n",
       "      <th>workers</th>\n",
       "      <th>img</th>\n",
       "      <th>winner</th>\n",
       "    </tr>\n",
       "  </thead>\n",
       "  <tbody>\n",
       "    <tr>\n",
       "      <th>0</th>\n",
       "      <td>2019</td>\n",
       "      <td>62nd Annual GRAMMY Awards  (2019)</td>\n",
       "      <td>2020-05-19T05:10:28-07:00</td>\n",
       "      <td>2020-05-19T05:10:28-07:00</td>\n",
       "      <td>Record Of The Year</td>\n",
       "      <td>Bad Guy</td>\n",
       "      <td>Billie Eilish</td>\n",
       "      <td>Finneas O'Connell, producer; Rob Kinelski &amp; Fi...</td>\n",
       "      <td>https://www.grammy.com/sites/com/files/styles/...</td>\n",
       "      <td>True</td>\n",
       "    </tr>\n",
       "    <tr>\n",
       "      <th>1</th>\n",
       "      <td>2019</td>\n",
       "      <td>62nd Annual GRAMMY Awards  (2019)</td>\n",
       "      <td>2020-05-19T05:10:28-07:00</td>\n",
       "      <td>2020-05-19T05:10:28-07:00</td>\n",
       "      <td>Record Of The Year</td>\n",
       "      <td>Hey, Ma</td>\n",
       "      <td>Bon Iver</td>\n",
       "      <td>BJ Burton, Brad Cook, Chris Messina &amp; Justin V...</td>\n",
       "      <td>https://www.grammy.com/sites/com/files/styles/...</td>\n",
       "      <td>True</td>\n",
       "    </tr>\n",
       "    <tr>\n",
       "      <th>2</th>\n",
       "      <td>2019</td>\n",
       "      <td>62nd Annual GRAMMY Awards  (2019)</td>\n",
       "      <td>2020-05-19T05:10:28-07:00</td>\n",
       "      <td>2020-05-19T05:10:28-07:00</td>\n",
       "      <td>Record Of The Year</td>\n",
       "      <td>7 rings</td>\n",
       "      <td>Ariana Grande</td>\n",
       "      <td>Charles Anderson, Tommy Brown, Michael Foster ...</td>\n",
       "      <td>https://www.grammy.com/sites/com/files/styles/...</td>\n",
       "      <td>True</td>\n",
       "    </tr>\n",
       "    <tr>\n",
       "      <th>3</th>\n",
       "      <td>2019</td>\n",
       "      <td>62nd Annual GRAMMY Awards  (2019)</td>\n",
       "      <td>2020-05-19T05:10:28-07:00</td>\n",
       "      <td>2020-05-19T05:10:28-07:00</td>\n",
       "      <td>Record Of The Year</td>\n",
       "      <td>Hard Place</td>\n",
       "      <td>H.E.R.</td>\n",
       "      <td>Rodney “Darkchild” Jerkins, producer; Joseph H...</td>\n",
       "      <td>https://www.grammy.com/sites/com/files/styles/...</td>\n",
       "      <td>True</td>\n",
       "    </tr>\n",
       "    <tr>\n",
       "      <th>4</th>\n",
       "      <td>2019</td>\n",
       "      <td>62nd Annual GRAMMY Awards  (2019)</td>\n",
       "      <td>2020-05-19T05:10:28-07:00</td>\n",
       "      <td>2020-05-19T05:10:28-07:00</td>\n",
       "      <td>Record Of The Year</td>\n",
       "      <td>Talk</td>\n",
       "      <td>Khalid</td>\n",
       "      <td>Disclosure &amp; Denis Kosiak, producers; Ingmar C...</td>\n",
       "      <td>https://www.grammy.com/sites/com/files/styles/...</td>\n",
       "      <td>True</td>\n",
       "    </tr>\n",
       "  </tbody>\n",
       "</table>\n",
       "</div>"
      ],
      "text/plain": [
       "   year                              title               published_at  \\\n",
       "0  2019  62nd Annual GRAMMY Awards  (2019)  2020-05-19T05:10:28-07:00   \n",
       "1  2019  62nd Annual GRAMMY Awards  (2019)  2020-05-19T05:10:28-07:00   \n",
       "2  2019  62nd Annual GRAMMY Awards  (2019)  2020-05-19T05:10:28-07:00   \n",
       "3  2019  62nd Annual GRAMMY Awards  (2019)  2020-05-19T05:10:28-07:00   \n",
       "4  2019  62nd Annual GRAMMY Awards  (2019)  2020-05-19T05:10:28-07:00   \n",
       "\n",
       "                  updated_at            category     nominee         artist  \\\n",
       "0  2020-05-19T05:10:28-07:00  Record Of The Year     Bad Guy  Billie Eilish   \n",
       "1  2020-05-19T05:10:28-07:00  Record Of The Year     Hey, Ma       Bon Iver   \n",
       "2  2020-05-19T05:10:28-07:00  Record Of The Year     7 rings  Ariana Grande   \n",
       "3  2020-05-19T05:10:28-07:00  Record Of The Year  Hard Place         H.E.R.   \n",
       "4  2020-05-19T05:10:28-07:00  Record Of The Year        Talk         Khalid   \n",
       "\n",
       "                                             workers  \\\n",
       "0  Finneas O'Connell, producer; Rob Kinelski & Fi...   \n",
       "1  BJ Burton, Brad Cook, Chris Messina & Justin V...   \n",
       "2  Charles Anderson, Tommy Brown, Michael Foster ...   \n",
       "3  Rodney “Darkchild” Jerkins, producer; Joseph H...   \n",
       "4  Disclosure & Denis Kosiak, producers; Ingmar C...   \n",
       "\n",
       "                                                 img  winner  \n",
       "0  https://www.grammy.com/sites/com/files/styles/...    True  \n",
       "1  https://www.grammy.com/sites/com/files/styles/...    True  \n",
       "2  https://www.grammy.com/sites/com/files/styles/...    True  \n",
       "3  https://www.grammy.com/sites/com/files/styles/...    True  \n",
       "4  https://www.grammy.com/sites/com/files/styles/...    True  "
      ]
     },
     "execution_count": 12,
     "metadata": {},
     "output_type": "execute_result"
    }
   ],
   "source": [
    "df = pd.read_sql_table(\"grammy_awards\", engine)\n",
    "df.head()"
   ]
  },
  {
   "cell_type": "code",
   "execution_count": 13,
   "id": "43eaac83",
   "metadata": {},
   "outputs": [
    {
     "name": "stdout",
     "output_type": "stream",
     "text": [
      "<class 'pandas.core.frame.DataFrame'>\n",
      "RangeIndex: 4810 entries, 0 to 4809\n",
      "Data columns (total 10 columns):\n",
      " #   Column        Non-Null Count  Dtype \n",
      "---  ------        --------------  ----- \n",
      " 0   year          4810 non-null   int64 \n",
      " 1   title         4810 non-null   object\n",
      " 2   published_at  4810 non-null   object\n",
      " 3   updated_at    4810 non-null   object\n",
      " 4   category      4810 non-null   object\n",
      " 5   nominee       4804 non-null   object\n",
      " 6   artist        2970 non-null   object\n",
      " 7   workers       2620 non-null   object\n",
      " 8   img           3443 non-null   object\n",
      " 9   winner        4810 non-null   bool  \n",
      "dtypes: bool(1), int64(1), object(8)\n",
      "memory usage: 343.0+ KB\n"
     ]
    }
   ],
   "source": [
    "df.info()"
   ]
  },
  {
   "cell_type": "markdown",
   "id": "9ea61860",
   "metadata": {},
   "source": [
    "Examining the distinct and missing values\n",
    "\n",
    "While reviewing the data, we found something unusual the winner column contains only a single unique value. We'll investigate this further in a later section."
   ]
  },
  {
   "cell_type": "code",
   "execution_count": 14,
   "id": "e833a24e",
   "metadata": {},
   "outputs": [
    {
     "data": {
      "text/plain": [
       "year              62\n",
       "title             62\n",
       "published_at       4\n",
       "updated_at        10\n",
       "category         638\n",
       "nominee         4131\n",
       "artist          1658\n",
       "workers         2366\n",
       "img             1463\n",
       "winner             1\n",
       "dtype: int64"
      ]
     },
     "execution_count": 14,
     "metadata": {},
     "output_type": "execute_result"
    }
   ],
   "source": [
    "df.nunique()"
   ]
  },
  {
   "cell_type": "markdown",
   "id": "f609dfdf",
   "metadata": {},
   "source": [
    "The high number of missing values in artist and workers is quite notable.\n",
    "\n",
    " These columns are actually the most significant in our dataset, as they provide the richest information and context to each record. We'll explore potential ways to address their missing values later on."
   ]
  },
  {
   "cell_type": "code",
   "execution_count": 15,
   "id": "d18f2155",
   "metadata": {},
   "outputs": [
    {
     "data": {
      "text/plain": [
       "year               0\n",
       "title              0\n",
       "published_at       0\n",
       "updated_at         0\n",
       "category           0\n",
       "nominee            6\n",
       "artist          1840\n",
       "workers         2190\n",
       "img             1367\n",
       "winner             0\n",
       "dtype: int64"
      ]
     },
     "execution_count": 15,
     "metadata": {},
     "output_type": "execute_result"
    }
   ],
   "source": [
    "df.isnull().sum()"
   ]
  },
  {
   "cell_type": "markdown",
   "id": "c1004f9c",
   "metadata": {},
   "source": [
    "Are these columns relevant?\n",
    "\n",
    "Published At and Updated At columns\n",
    "\n",
    "During the dataset analysis, I couldn’t identify a meaningful purpose for the values in these two columns. The dates don’t correspond to the event’s actual date or any related commemorative moment. As a result, I’ve decided to remove them from the dataframe."
   ]
  },
  {
   "cell_type": "code",
   "execution_count": 16,
   "id": "a612878d",
   "metadata": {},
   "outputs": [
    {
     "data": {
      "text/plain": [
       "published_at\n",
       "2017-11-28T00:03:45-08:00    4205\n",
       "2020-05-19T05:10:28-07:00     433\n",
       "2018-12-06T23:48:49-08:00      86\n",
       "2018-05-22T03:08:24-07:00      86\n",
       "Name: count, dtype: int64"
      ]
     },
     "execution_count": 16,
     "metadata": {},
     "output_type": "execute_result"
    }
   ],
   "source": [
    "df[\"published_at\"].value_counts()"
   ]
  },
  {
   "cell_type": "code",
   "execution_count": 17,
   "id": "bf420f37",
   "metadata": {},
   "outputs": [
    {
     "data": {
      "text/plain": [
       "updated_at\n",
       "2019-09-10T01:08:19-07:00    778\n",
       "2019-09-10T01:06:11-07:00    754\n",
       "2019-09-10T01:07:37-07:00    713\n",
       "2019-09-10T01:06:59-07:00    681\n",
       "2019-09-10T01:11:09-07:00    658\n",
       "2019-09-10T01:09:02-07:00    554\n",
       "2020-05-19T05:10:28-07:00    433\n",
       "2017-11-28T00:03:45-08:00    108\n",
       "2020-09-01T12:16:40-07:00     83\n",
       "2019-09-10T01:11:48-07:00     48\n",
       "Name: count, dtype: int64"
      ]
     },
     "execution_count": 17,
     "metadata": {},
     "output_type": "execute_result"
    }
   ],
   "source": [
    "df[\"updated_at\"].value_counts()"
   ]
  },
  {
   "cell_type": "markdown",
   "id": "d30f5995",
   "metadata": {},
   "source": [
    "Image column\n",
    "\n",
    "We’ll take a look to see whether any of these images are accessible or suitable for use."
   ]
  },
  {
   "cell_type": "code",
   "execution_count": 18,
   "id": "e45723ab",
   "metadata": {},
   "outputs": [
    {
     "data": {
      "text/plain": [
       "'https://www.grammy.com/sites/com/files/styles/artist_circle/public/muzooka/Billie%2BEilish/Billie%2520Eilish_1_1_1594138954.jpg?itok=3-71Dfxh'"
      ]
     },
     "execution_count": 18,
     "metadata": {},
     "output_type": "execute_result"
    }
   ],
   "source": [
    "df.loc[0, \"img\"]"
   ]
  },
  {
   "cell_type": "markdown",
   "id": "e27ac13e",
   "metadata": {},
   "source": [
    "Winners column\n",
    "\n",
    "We observed that this column only contains the value True, even though in some editions, the non-winners in certain categories are also listed.\n",
    "\n",
    "Due to the limited data, we’re unable to distinguish actual winners from other nominees — unless we incorporate external sources unrelated to the Grammys.\n",
    "\n",
    "To help identify nominated songs versus non-nominated ones during the merging process, we’ll keep this column but rename it to is_nominated."
   ]
  },
  {
   "cell_type": "code",
   "execution_count": 19,
   "id": "d8fca1ad",
   "metadata": {},
   "outputs": [
    {
     "data": {
      "text/plain": [
       "winner\n",
       "True    4810\n",
       "Name: count, dtype: int64"
      ]
     },
     "execution_count": 19,
     "metadata": {},
     "output_type": "execute_result"
    }
   ],
   "source": [
    "df[\"winner\"].value_counts()"
   ]
  },
  {
   "cell_type": "code",
   "execution_count": 20,
   "id": "edd1db03",
   "metadata": {},
   "outputs": [],
   "source": [
    "df.rename(columns={\"winner\": \"is_nominated\"}, inplace=True)"
   ]
  },
  {
   "cell_type": "markdown",
   "id": "58405384",
   "metadata": {},
   "source": [
    "In the end, we drop the columns that are not needed."
   ]
  },
  {
   "cell_type": "code",
   "execution_count": 21,
   "id": "6dcece3d",
   "metadata": {},
   "outputs": [],
   "source": [
    "df = df.drop(columns=[\"published_at\", \"updated_at\", \"img\"])"
   ]
  },
  {
   "cell_type": "code",
   "execution_count": 22,
   "id": "1b8d65fd",
   "metadata": {},
   "outputs": [
    {
     "data": {
      "text/html": [
       "<div>\n",
       "<style scoped>\n",
       "    .dataframe tbody tr th:only-of-type {\n",
       "        vertical-align: middle;\n",
       "    }\n",
       "\n",
       "    .dataframe tbody tr th {\n",
       "        vertical-align: top;\n",
       "    }\n",
       "\n",
       "    .dataframe thead th {\n",
       "        text-align: right;\n",
       "    }\n",
       "</style>\n",
       "<table border=\"1\" class=\"dataframe\">\n",
       "  <thead>\n",
       "    <tr style=\"text-align: right;\">\n",
       "      <th></th>\n",
       "      <th>year</th>\n",
       "      <th>title</th>\n",
       "      <th>category</th>\n",
       "      <th>nominee</th>\n",
       "      <th>artist</th>\n",
       "      <th>workers</th>\n",
       "      <th>is_nominated</th>\n",
       "    </tr>\n",
       "  </thead>\n",
       "  <tbody>\n",
       "    <tr>\n",
       "      <th>0</th>\n",
       "      <td>2019</td>\n",
       "      <td>62nd Annual GRAMMY Awards  (2019)</td>\n",
       "      <td>Record Of The Year</td>\n",
       "      <td>Bad Guy</td>\n",
       "      <td>Billie Eilish</td>\n",
       "      <td>Finneas O'Connell, producer; Rob Kinelski &amp; Fi...</td>\n",
       "      <td>True</td>\n",
       "    </tr>\n",
       "    <tr>\n",
       "      <th>1</th>\n",
       "      <td>2019</td>\n",
       "      <td>62nd Annual GRAMMY Awards  (2019)</td>\n",
       "      <td>Record Of The Year</td>\n",
       "      <td>Hey, Ma</td>\n",
       "      <td>Bon Iver</td>\n",
       "      <td>BJ Burton, Brad Cook, Chris Messina &amp; Justin V...</td>\n",
       "      <td>True</td>\n",
       "    </tr>\n",
       "    <tr>\n",
       "      <th>2</th>\n",
       "      <td>2019</td>\n",
       "      <td>62nd Annual GRAMMY Awards  (2019)</td>\n",
       "      <td>Record Of The Year</td>\n",
       "      <td>7 rings</td>\n",
       "      <td>Ariana Grande</td>\n",
       "      <td>Charles Anderson, Tommy Brown, Michael Foster ...</td>\n",
       "      <td>True</td>\n",
       "    </tr>\n",
       "    <tr>\n",
       "      <th>3</th>\n",
       "      <td>2019</td>\n",
       "      <td>62nd Annual GRAMMY Awards  (2019)</td>\n",
       "      <td>Record Of The Year</td>\n",
       "      <td>Hard Place</td>\n",
       "      <td>H.E.R.</td>\n",
       "      <td>Rodney “Darkchild” Jerkins, producer; Joseph H...</td>\n",
       "      <td>True</td>\n",
       "    </tr>\n",
       "    <tr>\n",
       "      <th>4</th>\n",
       "      <td>2019</td>\n",
       "      <td>62nd Annual GRAMMY Awards  (2019)</td>\n",
       "      <td>Record Of The Year</td>\n",
       "      <td>Talk</td>\n",
       "      <td>Khalid</td>\n",
       "      <td>Disclosure &amp; Denis Kosiak, producers; Ingmar C...</td>\n",
       "      <td>True</td>\n",
       "    </tr>\n",
       "  </tbody>\n",
       "</table>\n",
       "</div>"
      ],
      "text/plain": [
       "   year                              title            category     nominee  \\\n",
       "0  2019  62nd Annual GRAMMY Awards  (2019)  Record Of The Year     Bad Guy   \n",
       "1  2019  62nd Annual GRAMMY Awards  (2019)  Record Of The Year     Hey, Ma   \n",
       "2  2019  62nd Annual GRAMMY Awards  (2019)  Record Of The Year     7 rings   \n",
       "3  2019  62nd Annual GRAMMY Awards  (2019)  Record Of The Year  Hard Place   \n",
       "4  2019  62nd Annual GRAMMY Awards  (2019)  Record Of The Year        Talk   \n",
       "\n",
       "          artist                                            workers  \\\n",
       "0  Billie Eilish  Finneas O'Connell, producer; Rob Kinelski & Fi...   \n",
       "1       Bon Iver  BJ Burton, Brad Cook, Chris Messina & Justin V...   \n",
       "2  Ariana Grande  Charles Anderson, Tommy Brown, Michael Foster ...   \n",
       "3         H.E.R.  Rodney “Darkchild” Jerkins, producer; Joseph H...   \n",
       "4         Khalid  Disclosure & Denis Kosiak, producers; Ingmar C...   \n",
       "\n",
       "   is_nominated  \n",
       "0          True  \n",
       "1          True  \n",
       "2          True  \n",
       "3          True  \n",
       "4          True  "
      ]
     },
     "execution_count": 22,
     "metadata": {},
     "output_type": "execute_result"
    }
   ],
   "source": [
    "df.head()"
   ]
  },
  {
   "cell_type": "markdown",
   "id": "8106277c",
   "metadata": {},
   "source": [
    "Handling missing values\n",
    "\n",
    "Nominee\n",
    "\n",
    "There are only 6 missing entries in the nominee column, which allows us to take a closer look and consider dropping these rows.\n",
    "\n",
    "After reviewing them, we noticed that none of these null values actually refer to a specific nominee. As such, they don't hold any meaningful information."
   ]
  },
  {
   "cell_type": "code",
   "execution_count": 23,
   "id": "9774e055",
   "metadata": {},
   "outputs": [
    {
     "data": {
      "text/html": [
       "<div>\n",
       "<style scoped>\n",
       "    .dataframe tbody tr th:only-of-type {\n",
       "        vertical-align: middle;\n",
       "    }\n",
       "\n",
       "    .dataframe tbody tr th {\n",
       "        vertical-align: top;\n",
       "    }\n",
       "\n",
       "    .dataframe thead th {\n",
       "        text-align: right;\n",
       "    }\n",
       "</style>\n",
       "<table border=\"1\" class=\"dataframe\">\n",
       "  <thead>\n",
       "    <tr style=\"text-align: right;\">\n",
       "      <th></th>\n",
       "      <th>year</th>\n",
       "      <th>title</th>\n",
       "      <th>category</th>\n",
       "      <th>nominee</th>\n",
       "      <th>artist</th>\n",
       "      <th>workers</th>\n",
       "      <th>is_nominated</th>\n",
       "    </tr>\n",
       "  </thead>\n",
       "  <tbody>\n",
       "    <tr>\n",
       "      <th>2274</th>\n",
       "      <td>2000</td>\n",
       "      <td>43rd Annual GRAMMY Awards  (2000)</td>\n",
       "      <td>Remixer of the Year, Non-Classical</td>\n",
       "      <td>None</td>\n",
       "      <td>None</td>\n",
       "      <td>None</td>\n",
       "      <td>True</td>\n",
       "    </tr>\n",
       "    <tr>\n",
       "      <th>2372</th>\n",
       "      <td>1999</td>\n",
       "      <td>42nd Annual GRAMMY Awards  (1999)</td>\n",
       "      <td>Remixer Of The Year, Non-Classical</td>\n",
       "      <td>None</td>\n",
       "      <td>None</td>\n",
       "      <td>None</td>\n",
       "      <td>True</td>\n",
       "    </tr>\n",
       "    <tr>\n",
       "      <th>2464</th>\n",
       "      <td>1998</td>\n",
       "      <td>41st Annual GRAMMY Awards  (1998)</td>\n",
       "      <td>Remixer Of The Year, Non-classical</td>\n",
       "      <td>None</td>\n",
       "      <td>None</td>\n",
       "      <td>None</td>\n",
       "      <td>True</td>\n",
       "    </tr>\n",
       "    <tr>\n",
       "      <th>2560</th>\n",
       "      <td>1997</td>\n",
       "      <td>40th Annual GRAMMY Awards  (1997)</td>\n",
       "      <td>Remixer Of The Year, Non-Classical</td>\n",
       "      <td>None</td>\n",
       "      <td>None</td>\n",
       "      <td>None</td>\n",
       "      <td>True</td>\n",
       "    </tr>\n",
       "    <tr>\n",
       "      <th>4527</th>\n",
       "      <td>1965</td>\n",
       "      <td>8th Annual GRAMMY Awards  (1965)</td>\n",
       "      <td>Best New Country &amp; Western Artist</td>\n",
       "      <td>None</td>\n",
       "      <td>None</td>\n",
       "      <td>None</td>\n",
       "      <td>True</td>\n",
       "    </tr>\n",
       "    <tr>\n",
       "      <th>4574</th>\n",
       "      <td>1964</td>\n",
       "      <td>7th Annual GRAMMY Awards  (1964)</td>\n",
       "      <td>Best New Country &amp; Western Artist Of 1964</td>\n",
       "      <td>None</td>\n",
       "      <td>None</td>\n",
       "      <td>None</td>\n",
       "      <td>True</td>\n",
       "    </tr>\n",
       "  </tbody>\n",
       "</table>\n",
       "</div>"
      ],
      "text/plain": [
       "      year                              title  \\\n",
       "2274  2000  43rd Annual GRAMMY Awards  (2000)   \n",
       "2372  1999  42nd Annual GRAMMY Awards  (1999)   \n",
       "2464  1998  41st Annual GRAMMY Awards  (1998)   \n",
       "2560  1997  40th Annual GRAMMY Awards  (1997)   \n",
       "4527  1965   8th Annual GRAMMY Awards  (1965)   \n",
       "4574  1964   7th Annual GRAMMY Awards  (1964)   \n",
       "\n",
       "                                       category nominee artist workers  \\\n",
       "2274         Remixer of the Year, Non-Classical    None   None    None   \n",
       "2372         Remixer Of The Year, Non-Classical    None   None    None   \n",
       "2464         Remixer Of The Year, Non-classical    None   None    None   \n",
       "2560         Remixer Of The Year, Non-Classical    None   None    None   \n",
       "4527          Best New Country & Western Artist    None   None    None   \n",
       "4574  Best New Country & Western Artist Of 1964    None   None    None   \n",
       "\n",
       "      is_nominated  \n",
       "2274          True  \n",
       "2372          True  \n",
       "2464          True  \n",
       "2560          True  \n",
       "4527          True  \n",
       "4574          True  "
      ]
     },
     "execution_count": 23,
     "metadata": {},
     "output_type": "execute_result"
    }
   ],
   "source": [
    "df.loc[df[\"nominee\"].isna()]"
   ]
  },
  {
   "cell_type": "code",
   "execution_count": 24,
   "id": "bcd7f938",
   "metadata": {},
   "outputs": [
    {
     "data": {
      "text/html": [
       "<div>\n",
       "<style scoped>\n",
       "    .dataframe tbody tr th:only-of-type {\n",
       "        vertical-align: middle;\n",
       "    }\n",
       "\n",
       "    .dataframe tbody tr th {\n",
       "        vertical-align: top;\n",
       "    }\n",
       "\n",
       "    .dataframe thead th {\n",
       "        text-align: right;\n",
       "    }\n",
       "</style>\n",
       "<table border=\"1\" class=\"dataframe\">\n",
       "  <thead>\n",
       "    <tr style=\"text-align: right;\">\n",
       "      <th></th>\n",
       "      <th>year</th>\n",
       "      <th>title</th>\n",
       "      <th>category</th>\n",
       "      <th>nominee</th>\n",
       "      <th>artist</th>\n",
       "      <th>workers</th>\n",
       "      <th>is_nominated</th>\n",
       "    </tr>\n",
       "  </thead>\n",
       "  <tbody>\n",
       "  </tbody>\n",
       "</table>\n",
       "</div>"
      ],
      "text/plain": [
       "Empty DataFrame\n",
       "Columns: [year, title, category, nominee, artist, workers, is_nominated]\n",
       "Index: []"
      ]
     },
     "execution_count": 24,
     "metadata": {},
     "output_type": "execute_result"
    }
   ],
   "source": [
    "df = df.dropna(subset=[\"nominee\"])\n",
    "df.loc[df[\"nominee\"].isna()]"
   ]
  },
  {
   "cell_type": "markdown",
   "id": "a72d37ea",
   "metadata": {},
   "source": [
    "Artist and Workers\n",
    "\n",
    "To handle the missing values in this case, we’ll explore different scenarios, starting with the one below:\n",
    "\n",
    "Both Artist and Workers are null\n",
    "One observation during the analysis is that the workers column, on its own, doesn't offer much analytical value. Still, it's quite useful during the data transformation phase, so we won't remove it beforehand.\n",
    "\n",
    "In this scenario, we’ll look into the rows where both columns are null. This typically occurs in categories like Best New Artist and Producer Of The Year, where the nominee is also considered the artist. Based on that, it makes sense to use the nominee’s name as the artist.\n",
    "\n",
    "Let’s check which cases allow for this assumption by examining the values in the category column."
   ]
  },
  {
   "cell_type": "code",
   "execution_count": 25,
   "id": "368c939b",
   "metadata": {},
   "outputs": [
    {
     "data": {
      "text/html": [
       "<div>\n",
       "<style scoped>\n",
       "    .dataframe tbody tr th:only-of-type {\n",
       "        vertical-align: middle;\n",
       "    }\n",
       "\n",
       "    .dataframe tbody tr th {\n",
       "        vertical-align: top;\n",
       "    }\n",
       "\n",
       "    .dataframe thead th {\n",
       "        text-align: right;\n",
       "    }\n",
       "</style>\n",
       "<table border=\"1\" class=\"dataframe\">\n",
       "  <thead>\n",
       "    <tr style=\"text-align: right;\">\n",
       "      <th></th>\n",
       "      <th>year</th>\n",
       "      <th>title</th>\n",
       "      <th>category</th>\n",
       "      <th>nominee</th>\n",
       "      <th>artist</th>\n",
       "      <th>workers</th>\n",
       "      <th>is_nominated</th>\n",
       "    </tr>\n",
       "  </thead>\n",
       "  <tbody>\n",
       "    <tr>\n",
       "      <th>24</th>\n",
       "      <td>2019</td>\n",
       "      <td>62nd Annual GRAMMY Awards  (2019)</td>\n",
       "      <td>Best New Artist</td>\n",
       "      <td>Billie Eilish</td>\n",
       "      <td>None</td>\n",
       "      <td>None</td>\n",
       "      <td>True</td>\n",
       "    </tr>\n",
       "    <tr>\n",
       "      <th>25</th>\n",
       "      <td>2019</td>\n",
       "      <td>62nd Annual GRAMMY Awards  (2019)</td>\n",
       "      <td>Best New Artist</td>\n",
       "      <td>Black Pumas</td>\n",
       "      <td>None</td>\n",
       "      <td>None</td>\n",
       "      <td>True</td>\n",
       "    </tr>\n",
       "    <tr>\n",
       "      <th>26</th>\n",
       "      <td>2019</td>\n",
       "      <td>62nd Annual GRAMMY Awards  (2019)</td>\n",
       "      <td>Best New Artist</td>\n",
       "      <td>Lil Nas X</td>\n",
       "      <td>None</td>\n",
       "      <td>None</td>\n",
       "      <td>True</td>\n",
       "    </tr>\n",
       "    <tr>\n",
       "      <th>27</th>\n",
       "      <td>2019</td>\n",
       "      <td>62nd Annual GRAMMY Awards  (2019)</td>\n",
       "      <td>Best New Artist</td>\n",
       "      <td>Lizzo</td>\n",
       "      <td>None</td>\n",
       "      <td>None</td>\n",
       "      <td>True</td>\n",
       "    </tr>\n",
       "    <tr>\n",
       "      <th>28</th>\n",
       "      <td>2019</td>\n",
       "      <td>62nd Annual GRAMMY Awards  (2019)</td>\n",
       "      <td>Best New Artist</td>\n",
       "      <td>Maggie Rogers</td>\n",
       "      <td>None</td>\n",
       "      <td>None</td>\n",
       "      <td>True</td>\n",
       "    </tr>\n",
       "  </tbody>\n",
       "</table>\n",
       "</div>"
      ],
      "text/plain": [
       "    year                              title         category        nominee  \\\n",
       "24  2019  62nd Annual GRAMMY Awards  (2019)  Best New Artist  Billie Eilish   \n",
       "25  2019  62nd Annual GRAMMY Awards  (2019)  Best New Artist    Black Pumas   \n",
       "26  2019  62nd Annual GRAMMY Awards  (2019)  Best New Artist      Lil Nas X   \n",
       "27  2019  62nd Annual GRAMMY Awards  (2019)  Best New Artist          Lizzo   \n",
       "28  2019  62nd Annual GRAMMY Awards  (2019)  Best New Artist  Maggie Rogers   \n",
       "\n",
       "   artist workers  is_nominated  \n",
       "24   None    None          True  \n",
       "25   None    None          True  \n",
       "26   None    None          True  \n",
       "27   None    None          True  \n",
       "28   None    None          True  "
      ]
     },
     "execution_count": 25,
     "metadata": {},
     "output_type": "execute_result"
    }
   ],
   "source": [
    "both_null_values = df.loc[df[\"artist\"].isna() & df[\"workers\"].isna()]\n",
    "both_null_values.head()"
   ]
  },
  {
   "cell_type": "code",
   "execution_count": 26,
   "id": "ebbf32f9",
   "metadata": {},
   "outputs": [
    {
     "data": {
      "text/plain": [
       "category\n",
       "Best New Artist                                                                              50\n",
       "Producer Of The Year, Non-Classical                                                          22\n",
       "Producer Of The Year, Classical                                                              22\n",
       "Classical Producer Of The Year                                                               18\n",
       "Producer Of The Year (Non-Classical)                                                         10\n",
       "Producer Of The Year                                                                         10\n",
       "Best New Artist Of The Year                                                                   9\n",
       "Best Classical Vocal Soloist Performance                                                      7\n",
       "Best Classical Vocal Performance                                                              4\n",
       "Best Small Ensemble Performance (With Or Without Conductor)                                   4\n",
       "Best Classical Performance - Instrumental Soloist Or Soloists (With Or Without Orchestra)     4\n",
       "Best Producer Of The Year                                                                     3\n",
       "Most Promising New Classical Recording Artist                                                 3\n",
       "Best Classical Performance - Vocal Soloist (With Or Without Orchestra)                        2\n",
       "Producer Of The Year (Non Classical)                                                          1\n",
       "Best New Classical Artist                                                                     1\n",
       "Best Classical Vocal Soloist                                                                  1\n",
       "Producer Of The Year, (Non Classical)                                                         1\n",
       "Best Performance - Instrumental Soloist Or Soloists (With Or Without Orchestra)               1\n",
       "Best Classical Performance - Vocal Soloist                                                    1\n",
       "Best New Artist Of 1963                                                                       1\n",
       "Best New Artist Of 1964                                                                       1\n",
       "Best New Artist Of 1962                                                                       1\n",
       "Best New Artist Of 1961                                                                       1\n",
       "Best New Artist Of 1960                                                                       1\n",
       "Best New Artist Of 1959                                                                       1\n",
       "Name: count, dtype: int64"
      ]
     },
     "execution_count": 26,
     "metadata": {},
     "output_type": "execute_result"
    }
   ],
   "source": [
    "both_null_values[\"category\"].value_counts()"
   ]
  },
  {
   "cell_type": "markdown",
   "id": "eb9c4ce1",
   "metadata": {},
   "source": [
    "Let’s take a look at some categories where the data may not be particularly valuable or relevant for our purposes."
   ]
  },
  {
   "cell_type": "code",
   "execution_count": 27,
   "id": "d01e9b54",
   "metadata": {},
   "outputs": [
    {
     "data": {
      "text/html": [
       "<div>\n",
       "<style scoped>\n",
       "    .dataframe tbody tr th:only-of-type {\n",
       "        vertical-align: middle;\n",
       "    }\n",
       "\n",
       "    .dataframe tbody tr th {\n",
       "        vertical-align: top;\n",
       "    }\n",
       "\n",
       "    .dataframe thead th {\n",
       "        text-align: right;\n",
       "    }\n",
       "</style>\n",
       "<table border=\"1\" class=\"dataframe\">\n",
       "  <thead>\n",
       "    <tr style=\"text-align: right;\">\n",
       "      <th></th>\n",
       "      <th>year</th>\n",
       "      <th>title</th>\n",
       "      <th>category</th>\n",
       "      <th>nominee</th>\n",
       "      <th>artist</th>\n",
       "      <th>workers</th>\n",
       "      <th>is_nominated</th>\n",
       "    </tr>\n",
       "  </thead>\n",
       "  <tbody>\n",
       "    <tr>\n",
       "      <th>2382</th>\n",
       "      <td>1999</td>\n",
       "      <td>42nd Annual GRAMMY Awards  (1999)</td>\n",
       "      <td>Best Small Ensemble Performance (With Or Witho...</td>\n",
       "      <td>Colors Of Love - Works Of Thomas, Stucky, Tave...</td>\n",
       "      <td>None</td>\n",
       "      <td>None</td>\n",
       "      <td>True</td>\n",
       "    </tr>\n",
       "    <tr>\n",
       "      <th>2475</th>\n",
       "      <td>1998</td>\n",
       "      <td>41st Annual GRAMMY Awards  (1998)</td>\n",
       "      <td>Best Small Ensemble Performance (With Or Witho...</td>\n",
       "      <td>Reich: Music For 18 Musicians</td>\n",
       "      <td>None</td>\n",
       "      <td>None</td>\n",
       "      <td>True</td>\n",
       "    </tr>\n",
       "    <tr>\n",
       "      <th>2570</th>\n",
       "      <td>1997</td>\n",
       "      <td>40th Annual GRAMMY Awards  (1997)</td>\n",
       "      <td>Best Small Ensemble Performance (With Or Witho...</td>\n",
       "      <td>Hindemith: Kammermusik No. 1 With Finale 1921,...</td>\n",
       "      <td>None</td>\n",
       "      <td>None</td>\n",
       "      <td>True</td>\n",
       "    </tr>\n",
       "    <tr>\n",
       "      <th>2571</th>\n",
       "      <td>1997</td>\n",
       "      <td>40th Annual GRAMMY Awards  (1997)</td>\n",
       "      <td>Best Classical Vocal Performance</td>\n",
       "      <td>An Italian Songbook - Works Of Bellini, Donize...</td>\n",
       "      <td>None</td>\n",
       "      <td>None</td>\n",
       "      <td>True</td>\n",
       "    </tr>\n",
       "    <tr>\n",
       "      <th>2658</th>\n",
       "      <td>1996</td>\n",
       "      <td>39th Annual GRAMMY Awards  (1996)</td>\n",
       "      <td>Best Small Ensemble Performance (With Or Witho...</td>\n",
       "      <td>Boulez: ...Explosante-Fixe...</td>\n",
       "      <td>None</td>\n",
       "      <td>None</td>\n",
       "      <td>True</td>\n",
       "    </tr>\n",
       "  </tbody>\n",
       "</table>\n",
       "</div>"
      ],
      "text/plain": [
       "      year                              title  \\\n",
       "2382  1999  42nd Annual GRAMMY Awards  (1999)   \n",
       "2475  1998  41st Annual GRAMMY Awards  (1998)   \n",
       "2570  1997  40th Annual GRAMMY Awards  (1997)   \n",
       "2571  1997  40th Annual GRAMMY Awards  (1997)   \n",
       "2658  1996  39th Annual GRAMMY Awards  (1996)   \n",
       "\n",
       "                                               category  \\\n",
       "2382  Best Small Ensemble Performance (With Or Witho...   \n",
       "2475  Best Small Ensemble Performance (With Or Witho...   \n",
       "2570  Best Small Ensemble Performance (With Or Witho...   \n",
       "2571                   Best Classical Vocal Performance   \n",
       "2658  Best Small Ensemble Performance (With Or Witho...   \n",
       "\n",
       "                                                nominee artist workers  \\\n",
       "2382  Colors Of Love - Works Of Thomas, Stucky, Tave...   None    None   \n",
       "2475                      Reich: Music For 18 Musicians   None    None   \n",
       "2570  Hindemith: Kammermusik No. 1 With Finale 1921,...   None    None   \n",
       "2571  An Italian Songbook - Works Of Bellini, Donize...   None    None   \n",
       "2658                      Boulez: ...Explosante-Fixe...   None    None   \n",
       "\n",
       "      is_nominated  \n",
       "2382          True  \n",
       "2475          True  \n",
       "2570          True  \n",
       "2571          True  \n",
       "2658          True  "
      ]
     },
     "execution_count": 27,
     "metadata": {},
     "output_type": "execute_result"
    }
   ],
   "source": [
    "categories = [\n",
    "    \"Best Classical Vocal Soloist Performance\",\n",
    "    \"Best Classical Vocal Performance\",\n",
    "    \"Best Small Ensemble Performance (With Or Without Conductor)\",\n",
    "    \"Best Classical Performance - Instrumental Soloist Or Soloists (With Or Without Orchestra)\",\n",
    "    \"Most Promising New Classical Recording Artist\",\n",
    "    \"Best Classical Performance - Vocal Soloist (With Or Without Orchestra)\",\n",
    "    \"Best New Classical Artist\",\n",
    "    \"Best Classical Vocal Soloist\",\n",
    "    \"Best Performance - Instrumental Soloist Or Soloists (With Or Without Orchestra)\",\n",
    "    \"Best Classical Performance - Vocal Soloist\"\n",
    "]\n",
    "\n",
    "both_filtered = both_null_values[both_null_values[\"category\"].isin(categories)]\n",
    "both_filtered.head()"
   ]
  },
  {
   "cell_type": "markdown",
   "id": "a7600d39",
   "metadata": {},
   "source": [
    "After reviewing the previous output, our suspicion is confirmed:\n",
    "\n",
    " most of the nominee values in these categories aren’t helpful for extracting artist information. Therefore, we’ll go ahead and remove them."
   ]
  },
  {
   "cell_type": "code",
   "execution_count": 28,
   "id": "1e1193cb",
   "metadata": {},
   "outputs": [],
   "source": [
    "both_null_values = both_null_values.drop(both_filtered.index, axis=0)\n",
    "df = df.drop(both_filtered.index, axis=0)"
   ]
  },
  {
   "cell_type": "code",
   "execution_count": 30,
   "id": "62ecb88f",
   "metadata": {},
   "outputs": [
    {
     "data": {
      "text/plain": [
       "(4776, 7)"
      ]
     },
     "execution_count": 30,
     "metadata": {},
     "output_type": "execute_result"
    }
   ],
   "source": [
    "df.shape"
   ]
  },
  {
   "cell_type": "markdown",
   "id": "a86d44a3",
   "metadata": {},
   "source": [
    "At this point, we can transfer the values from nominee to artist for the relevant cases we identified earlier."
   ]
  },
  {
   "cell_type": "code",
   "execution_count": 31,
   "id": "731b9c51",
   "metadata": {},
   "outputs": [],
   "source": [
    "df.loc[both_null_values.index, \"artist\"] = both_null_values[\"nominee\"]"
   ]
  },
  {
   "cell_type": "code",
   "execution_count": 32,
   "id": "b0022996",
   "metadata": {},
   "outputs": [
    {
     "data": {
      "text/html": [
       "<div>\n",
       "<style scoped>\n",
       "    .dataframe tbody tr th:only-of-type {\n",
       "        vertical-align: middle;\n",
       "    }\n",
       "\n",
       "    .dataframe tbody tr th {\n",
       "        vertical-align: top;\n",
       "    }\n",
       "\n",
       "    .dataframe thead th {\n",
       "        text-align: right;\n",
       "    }\n",
       "</style>\n",
       "<table border=\"1\" class=\"dataframe\">\n",
       "  <thead>\n",
       "    <tr style=\"text-align: right;\">\n",
       "      <th></th>\n",
       "      <th>year</th>\n",
       "      <th>title</th>\n",
       "      <th>category</th>\n",
       "      <th>nominee</th>\n",
       "      <th>artist</th>\n",
       "      <th>workers</th>\n",
       "      <th>is_nominated</th>\n",
       "    </tr>\n",
       "  </thead>\n",
       "  <tbody>\n",
       "  </tbody>\n",
       "</table>\n",
       "</div>"
      ],
      "text/plain": [
       "Empty DataFrame\n",
       "Columns: [year, title, category, nominee, artist, workers, is_nominated]\n",
       "Index: []"
      ]
     },
     "execution_count": 32,
     "metadata": {},
     "output_type": "execute_result"
    }
   ],
   "source": [
    "df.loc[df[\"artist\"].isna() & df[\"workers\"].isna()]"
   ]
  },
  {
   "cell_type": "markdown",
   "id": "00d5cce4",
   "metadata": {},
   "source": [
    "Artist appears within workers\n",
    "\n",
    "Some rows in the dataset have missing values in the artist column, but the artist’s name is actually included in parentheses within the workers field, as shown in the following outputs:"
   ]
  },
  {
   "cell_type": "code",
   "execution_count": 33,
   "id": "63fad61c",
   "metadata": {},
   "outputs": [
    {
     "data": {
      "text/plain": [
       "(1654, 7)"
      ]
     },
     "execution_count": 33,
     "metadata": {},
     "output_type": "execute_result"
    }
   ],
   "source": [
    "artist_null = df.loc[df[\"artist\"].isna()]\n",
    "artist_null.shape"
   ]
  },
  {
   "cell_type": "code",
   "execution_count": 34,
   "id": "0fdfdf01",
   "metadata": {},
   "outputs": [
    {
     "data": {
      "text/html": [
       "<div>\n",
       "<style scoped>\n",
       "    .dataframe tbody tr th:only-of-type {\n",
       "        vertical-align: middle;\n",
       "    }\n",
       "\n",
       "    .dataframe tbody tr th {\n",
       "        vertical-align: top;\n",
       "    }\n",
       "\n",
       "    .dataframe thead th {\n",
       "        text-align: right;\n",
       "    }\n",
       "</style>\n",
       "<table border=\"1\" class=\"dataframe\">\n",
       "  <thead>\n",
       "    <tr style=\"text-align: right;\">\n",
       "      <th></th>\n",
       "      <th>year</th>\n",
       "      <th>title</th>\n",
       "      <th>category</th>\n",
       "      <th>nominee</th>\n",
       "      <th>artist</th>\n",
       "      <th>workers</th>\n",
       "      <th>is_nominated</th>\n",
       "    </tr>\n",
       "  </thead>\n",
       "  <tbody>\n",
       "    <tr>\n",
       "      <th>16</th>\n",
       "      <td>2019</td>\n",
       "      <td>62nd Annual GRAMMY Awards  (2019)</td>\n",
       "      <td>Song Of The Year</td>\n",
       "      <td>Bad Guy</td>\n",
       "      <td>None</td>\n",
       "      <td>Billie Eilish O'Connell &amp; Finneas O'Connell, s...</td>\n",
       "      <td>True</td>\n",
       "    </tr>\n",
       "    <tr>\n",
       "      <th>17</th>\n",
       "      <td>2019</td>\n",
       "      <td>62nd Annual GRAMMY Awards  (2019)</td>\n",
       "      <td>Song Of The Year</td>\n",
       "      <td>Always Remember Us This Way</td>\n",
       "      <td>None</td>\n",
       "      <td>Natalie Hemby, Lady Gaga, Hillary Lindsey &amp; Lo...</td>\n",
       "      <td>True</td>\n",
       "    </tr>\n",
       "    <tr>\n",
       "      <th>18</th>\n",
       "      <td>2019</td>\n",
       "      <td>62nd Annual GRAMMY Awards  (2019)</td>\n",
       "      <td>Song Of The Year</td>\n",
       "      <td>Bring My Flowers Now</td>\n",
       "      <td>None</td>\n",
       "      <td>Brandi Carlile, Phil Hanseroth, Tim Hanseroth ...</td>\n",
       "      <td>True</td>\n",
       "    </tr>\n",
       "    <tr>\n",
       "      <th>19</th>\n",
       "      <td>2019</td>\n",
       "      <td>62nd Annual GRAMMY Awards  (2019)</td>\n",
       "      <td>Song Of The Year</td>\n",
       "      <td>Hard Place</td>\n",
       "      <td>None</td>\n",
       "      <td>Ruby Amanfu, Sam Ashworth, D. Arcelious Harris...</td>\n",
       "      <td>True</td>\n",
       "    </tr>\n",
       "    <tr>\n",
       "      <th>20</th>\n",
       "      <td>2019</td>\n",
       "      <td>62nd Annual GRAMMY Awards  (2019)</td>\n",
       "      <td>Song Of The Year</td>\n",
       "      <td>Lover</td>\n",
       "      <td>None</td>\n",
       "      <td>Taylor Swift, songwriter (Taylor Swift)</td>\n",
       "      <td>True</td>\n",
       "    </tr>\n",
       "  </tbody>\n",
       "</table>\n",
       "</div>"
      ],
      "text/plain": [
       "    year                              title          category  \\\n",
       "16  2019  62nd Annual GRAMMY Awards  (2019)  Song Of The Year   \n",
       "17  2019  62nd Annual GRAMMY Awards  (2019)  Song Of The Year   \n",
       "18  2019  62nd Annual GRAMMY Awards  (2019)  Song Of The Year   \n",
       "19  2019  62nd Annual GRAMMY Awards  (2019)  Song Of The Year   \n",
       "20  2019  62nd Annual GRAMMY Awards  (2019)  Song Of The Year   \n",
       "\n",
       "                        nominee artist  \\\n",
       "16                      Bad Guy   None   \n",
       "17  Always Remember Us This Way   None   \n",
       "18         Bring My Flowers Now   None   \n",
       "19                   Hard Place   None   \n",
       "20                        Lover   None   \n",
       "\n",
       "                                              workers  is_nominated  \n",
       "16  Billie Eilish O'Connell & Finneas O'Connell, s...          True  \n",
       "17  Natalie Hemby, Lady Gaga, Hillary Lindsey & Lo...          True  \n",
       "18  Brandi Carlile, Phil Hanseroth, Tim Hanseroth ...          True  \n",
       "19  Ruby Amanfu, Sam Ashworth, D. Arcelious Harris...          True  \n",
       "20            Taylor Swift, songwriter (Taylor Swift)          True  "
      ]
     },
     "execution_count": 34,
     "metadata": {},
     "output_type": "execute_result"
    }
   ],
   "source": [
    "artist_null_sample = artist_null.head()\n",
    "artist_null_sample"
   ]
  },
  {
   "cell_type": "code",
   "execution_count": 35,
   "id": "e55f64e6",
   "metadata": {},
   "outputs": [
    {
     "name": "stdout",
     "output_type": "stream",
     "text": [
      "Billie Eilish O'Connell & Finneas O'Connell, songwriters (Billie Eilish)\n",
      "Natalie Hemby, Lady Gaga, Hillary Lindsey & Lori McKenna, songwriters (Lady Gaga)\n",
      "Brandi Carlile, Phil Hanseroth, Tim Hanseroth & Tanya Tucker, songwriters (Tanya Tucker)\n",
      "Ruby Amanfu, Sam Ashworth, D. Arcelious Harris, H.E.R. & Rodney Jerkins, songwriters (H.E.R.)\n",
      "Taylor Swift, songwriter (Taylor Swift)\n"
     ]
    }
   ],
   "source": [
    "for i in artist_null_sample.index:\n",
    "    print(artist_null_sample.loc[i, \"workers\"])"
   ]
  },
  {
   "cell_type": "markdown",
   "id": "fc92e760",
   "metadata": {},
   "source": [
    "The code below fills in the missing values in the artist column using relevant information extracted from workers, helping to keep the dataset consistent and coherent."
   ]
  },
  {
   "cell_type": "markdown",
   "id": "7c215575",
   "metadata": {},
   "source": [
    "This code follows a logical sequence to ensure that:\n",
    "\n",
    "Existing values in the artist column are preserved when they’re not null.\n",
    "\n",
    "Any missing values in artist are filled using the text found in parentheses from the workers column, if such text exists.\n",
    "\n",
    "Ultimately, it returns a DataFrame with a more accurate and complete artist column, enhanced using details pulled from workers."
   ]
  },
  {
   "cell_type": "code",
   "execution_count": 37,
   "id": "1f854683",
   "metadata": {},
   "outputs": [],
   "source": [
    "def extract_artist(workers):\n",
    "    match = re.search(r'\\((.*?)\\)', workers)\n",
    "    if match:\n",
    "        return match.group(1)\n",
    "    return None\n",
    "\n",
    "df[\"artist\"] = (df.apply\n",
    "    (lambda row:\n",
    "        extract_artist(row[\"workers\"])\n",
    "        if pd.isna(row[\"artist\"])\n",
    "            else row[\"artist\"], axis=1))"
   ]
  },
  {
   "cell_type": "code",
   "execution_count": 38,
   "id": "aae5adbc",
   "metadata": {},
   "outputs": [
    {
     "data": {
      "text/html": [
       "<div>\n",
       "<style scoped>\n",
       "    .dataframe tbody tr th:only-of-type {\n",
       "        vertical-align: middle;\n",
       "    }\n",
       "\n",
       "    .dataframe tbody tr th {\n",
       "        vertical-align: top;\n",
       "    }\n",
       "\n",
       "    .dataframe thead th {\n",
       "        text-align: right;\n",
       "    }\n",
       "</style>\n",
       "<table border=\"1\" class=\"dataframe\">\n",
       "  <thead>\n",
       "    <tr style=\"text-align: right;\">\n",
       "      <th></th>\n",
       "      <th>year</th>\n",
       "      <th>title</th>\n",
       "      <th>category</th>\n",
       "      <th>nominee</th>\n",
       "      <th>artist</th>\n",
       "      <th>workers</th>\n",
       "      <th>is_nominated</th>\n",
       "    </tr>\n",
       "  </thead>\n",
       "  <tbody>\n",
       "    <tr>\n",
       "      <th>16</th>\n",
       "      <td>2019</td>\n",
       "      <td>62nd Annual GRAMMY Awards  (2019)</td>\n",
       "      <td>Song Of The Year</td>\n",
       "      <td>Bad Guy</td>\n",
       "      <td>Billie Eilish</td>\n",
       "      <td>Billie Eilish O'Connell &amp; Finneas O'Connell, s...</td>\n",
       "      <td>True</td>\n",
       "    </tr>\n",
       "    <tr>\n",
       "      <th>17</th>\n",
       "      <td>2019</td>\n",
       "      <td>62nd Annual GRAMMY Awards  (2019)</td>\n",
       "      <td>Song Of The Year</td>\n",
       "      <td>Always Remember Us This Way</td>\n",
       "      <td>Lady Gaga</td>\n",
       "      <td>Natalie Hemby, Lady Gaga, Hillary Lindsey &amp; Lo...</td>\n",
       "      <td>True</td>\n",
       "    </tr>\n",
       "    <tr>\n",
       "      <th>18</th>\n",
       "      <td>2019</td>\n",
       "      <td>62nd Annual GRAMMY Awards  (2019)</td>\n",
       "      <td>Song Of The Year</td>\n",
       "      <td>Bring My Flowers Now</td>\n",
       "      <td>Tanya Tucker</td>\n",
       "      <td>Brandi Carlile, Phil Hanseroth, Tim Hanseroth ...</td>\n",
       "      <td>True</td>\n",
       "    </tr>\n",
       "    <tr>\n",
       "      <th>19</th>\n",
       "      <td>2019</td>\n",
       "      <td>62nd Annual GRAMMY Awards  (2019)</td>\n",
       "      <td>Song Of The Year</td>\n",
       "      <td>Hard Place</td>\n",
       "      <td>H.E.R.</td>\n",
       "      <td>Ruby Amanfu, Sam Ashworth, D. Arcelious Harris...</td>\n",
       "      <td>True</td>\n",
       "    </tr>\n",
       "  </tbody>\n",
       "</table>\n",
       "</div>"
      ],
      "text/plain": [
       "    year                              title          category  \\\n",
       "16  2019  62nd Annual GRAMMY Awards  (2019)  Song Of The Year   \n",
       "17  2019  62nd Annual GRAMMY Awards  (2019)  Song Of The Year   \n",
       "18  2019  62nd Annual GRAMMY Awards  (2019)  Song Of The Year   \n",
       "19  2019  62nd Annual GRAMMY Awards  (2019)  Song Of The Year   \n",
       "\n",
       "                        nominee         artist  \\\n",
       "16                      Bad Guy  Billie Eilish   \n",
       "17  Always Remember Us This Way      Lady Gaga   \n",
       "18         Bring My Flowers Now   Tanya Tucker   \n",
       "19                   Hard Place         H.E.R.   \n",
       "\n",
       "                                              workers  is_nominated  \n",
       "16  Billie Eilish O'Connell & Finneas O'Connell, s...          True  \n",
       "17  Natalie Hemby, Lady Gaga, Hillary Lindsey & Lo...          True  \n",
       "18  Brandi Carlile, Phil Hanseroth, Tim Hanseroth ...          True  \n",
       "19  Ruby Amanfu, Sam Ashworth, D. Arcelious Harris...          True  "
      ]
     },
     "execution_count": 38,
     "metadata": {},
     "output_type": "execute_result"
    }
   ],
   "source": [
    "df.iloc[16:20]"
   ]
  },
  {
   "cell_type": "markdown",
   "id": "0e813b36",
   "metadata": {},
   "source": [
    "Let’s verify the current count of missing values in our dataframe. Although there’s been a significant decrease, a considerable amount of null data still remains."
   ]
  },
  {
   "cell_type": "code",
   "execution_count": 39,
   "id": "53db87f0",
   "metadata": {},
   "outputs": [
    {
     "data": {
      "text/plain": [
       "year               0\n",
       "title              0\n",
       "category           0\n",
       "nominee            0\n",
       "artist           288\n",
       "workers         2156\n",
       "is_nominated       0\n",
       "dtype: int64"
      ]
     },
     "execution_count": 39,
     "metadata": {},
     "output_type": "execute_result"
    }
   ],
   "source": [
    "df.isna().sum()"
   ]
  },
  {
   "cell_type": "markdown",
   "id": "4493b995",
   "metadata": {},
   "source": [
    "Several artists still show up in the workers column.\n",
    "\n",
    "However, we now notice new patterns that can help us identify them:\n",
    "\n",
    "The name appears by itself or alongside a Featuring, which should also be included.\n",
    "\n",
    "The name is separated by a semicolon (;) and may be alone or followed by a Featuring, which also needs to be captured.\n",
    "\n",
    "The artist's name is followed by a comma and a role, such as artist, composer, conductor, choir director, chorus master, ensembles, soloist, or conductor/soloist."
   ]
  },
  {
   "cell_type": "code",
   "execution_count": 40,
   "id": "8f6aced6",
   "metadata": {},
   "outputs": [
    {
     "data": {
      "text/html": [
       "<div>\n",
       "<style scoped>\n",
       "    .dataframe tbody tr th:only-of-type {\n",
       "        vertical-align: middle;\n",
       "    }\n",
       "\n",
       "    .dataframe tbody tr th {\n",
       "        vertical-align: top;\n",
       "    }\n",
       "\n",
       "    .dataframe thead th {\n",
       "        text-align: right;\n",
       "    }\n",
       "</style>\n",
       "<table border=\"1\" class=\"dataframe\">\n",
       "  <thead>\n",
       "    <tr style=\"text-align: right;\">\n",
       "      <th></th>\n",
       "      <th>year</th>\n",
       "      <th>title</th>\n",
       "      <th>category</th>\n",
       "      <th>nominee</th>\n",
       "      <th>artist</th>\n",
       "      <th>workers</th>\n",
       "      <th>is_nominated</th>\n",
       "    </tr>\n",
       "  </thead>\n",
       "  <tbody>\n",
       "    <tr>\n",
       "      <th>163</th>\n",
       "      <td>2015</td>\n",
       "      <td>58th Annual GRAMMY Awards  (2015)</td>\n",
       "      <td>Best Contemporary Classical Composition</td>\n",
       "      <td>Paulus: Prayers &amp; Remembrances</td>\n",
       "      <td>None</td>\n",
       "      <td>Stephen Paulus, composer</td>\n",
       "      <td>True</td>\n",
       "    </tr>\n",
       "    <tr>\n",
       "      <th>164</th>\n",
       "      <td>2019</td>\n",
       "      <td>62nd Annual GRAMMY Awards  (2019)</td>\n",
       "      <td>Best Improvised Jazz Solo</td>\n",
       "      <td>Sozinho</td>\n",
       "      <td>None</td>\n",
       "      <td>Randy Brecker, soloist</td>\n",
       "      <td>True</td>\n",
       "    </tr>\n",
       "    <tr>\n",
       "      <th>165</th>\n",
       "      <td>2019</td>\n",
       "      <td>62nd Annual GRAMMY Awards  (2019)</td>\n",
       "      <td>Best Improvised Jazz Solo</td>\n",
       "      <td>Elsewhere</td>\n",
       "      <td>None</td>\n",
       "      <td>Melissa Aldana, soloist</td>\n",
       "      <td>True</td>\n",
       "    </tr>\n",
       "    <tr>\n",
       "      <th>166</th>\n",
       "      <td>2019</td>\n",
       "      <td>62nd Annual GRAMMY Awards  (2019)</td>\n",
       "      <td>Best Improvised Jazz Solo</td>\n",
       "      <td>Tomorrow Is The Question</td>\n",
       "      <td>None</td>\n",
       "      <td>Julian Lage, soloist</td>\n",
       "      <td>True</td>\n",
       "    </tr>\n",
       "    <tr>\n",
       "      <th>167</th>\n",
       "      <td>2019</td>\n",
       "      <td>62nd Annual GRAMMY Awards  (2019)</td>\n",
       "      <td>Best Improvised Jazz Solo</td>\n",
       "      <td>The Windup</td>\n",
       "      <td>None</td>\n",
       "      <td>Branford Marsalis, soloist</td>\n",
       "      <td>True</td>\n",
       "    </tr>\n",
       "  </tbody>\n",
       "</table>\n",
       "</div>"
      ],
      "text/plain": [
       "     year                              title  \\\n",
       "163  2015  58th Annual GRAMMY Awards  (2015)   \n",
       "164  2019  62nd Annual GRAMMY Awards  (2019)   \n",
       "165  2019  62nd Annual GRAMMY Awards  (2019)   \n",
       "166  2019  62nd Annual GRAMMY Awards  (2019)   \n",
       "167  2019  62nd Annual GRAMMY Awards  (2019)   \n",
       "\n",
       "                                    category                         nominee  \\\n",
       "163  Best Contemporary Classical Composition  Paulus: Prayers & Remembrances   \n",
       "164                Best Improvised Jazz Solo                         Sozinho   \n",
       "165                Best Improvised Jazz Solo                       Elsewhere   \n",
       "166                Best Improvised Jazz Solo        Tomorrow Is The Question   \n",
       "167                Best Improvised Jazz Solo                      The Windup   \n",
       "\n",
       "    artist                     workers  is_nominated  \n",
       "163   None    Stephen Paulus, composer          True  \n",
       "164   None      Randy Brecker, soloist          True  \n",
       "165   None     Melissa Aldana, soloist          True  \n",
       "166   None        Julian Lage, soloist          True  \n",
       "167   None  Branford Marsalis, soloist          True  "
      ]
     },
     "execution_count": 40,
     "metadata": {},
     "output_type": "execute_result"
    }
   ],
   "source": [
    "artist_null = df[df[\"artist\"].isna()]\n",
    "artist_null.head()"
   ]
  },
  {
   "cell_type": "markdown",
   "id": "0023a835",
   "metadata": {},
   "source": [
    "Let’s identify and review the different roles that are present."
   ]
  },
  {
   "cell_type": "code",
   "execution_count": 41,
   "id": "485bb5d6",
   "metadata": {},
   "outputs": [],
   "source": [
    "artist_index = artist_null.index"
   ]
  },
  {
   "cell_type": "code",
   "execution_count": 44,
   "id": "51b0532f",
   "metadata": {},
   "outputs": [
    {
     "data": {
      "text/plain": [
       "[('artist', 80),\n",
       " ('producer', 73),\n",
       " ('soloist', 63),\n",
       " ('composer', 45),\n",
       " ('artists', 34),\n",
       " ('conductor', 27),\n",
       " ('engineer', 19),\n",
       " ('songwriters', 13),\n",
       " ('engineer/mixer', 10),\n",
       " ('producers', 9),\n",
       " ('Andreas Neubronner', 6),\n",
       " ('Tim Handley', 5),\n",
       " ('ensembles', 5),\n",
       " ('James Mallinson', 5),\n",
       " ('Thomas Frost', 4),\n",
       " ('Kirk Franklin', 3),\n",
       " ('songwriter', 3),\n",
       " ('soloists', 3),\n",
       " ('Karl-August Naegler', 3),\n",
       " ('Jonathan Allen', 2),\n",
       " ('John Newton', 2),\n",
       " ('engineers/mixers', 2),\n",
       " ('Christopher Alder', 2),\n",
       " ('Judith Sherman', 2),\n",
       " ('Adam Abeshouse', 2),\n",
       " ('Michelle DeYoung', 2),\n",
       " ('Hans Weber', 2),\n",
       " ('Robert Woods', 2),\n",
       " ('Lynn Harrell & Itzhak Perlman', 2),\n",
       " ('Artur Rubinstein & Henryk Szeryng', 2),\n",
       " ('David Harvey', 2),\n",
       " ('Thomas Z. Shepard', 2),\n",
       " ('Gregor Piatigorsky & William Primrose', 2),\n",
       " ('Bryan Fowler', 1),\n",
       " ('Gloria Gaynor & Chris Stevens', 1),\n",
       " ('Tony Brown', 1),\n",
       " ('Brandon Lake', 1),\n",
       " ('Tasha Cobbs Leonard & Nate Moore', 1),\n",
       " ('Josh Kerr', 1),\n",
       " ('Jordan Reynolds', 1),\n",
       " ('Joel Smallbone', 1),\n",
       " ('Luke Smallbone & Tedd Tjornhom', 1),\n",
       " ('Mark Hall', 1),\n",
       " ('Bernie Herms & Matthew West', 1),\n",
       " ('Danny Gokey', 1),\n",
       " ('Ethan Hulse & Colby Wedgeworth', 1),\n",
       " ('Ethan Hulse', 1),\n",
       " ('Andrew Ripp', 1),\n",
       " ('Jonathan Smith & Zach Williams', 1),\n",
       " ('Silas Brown & Harold Meltzer', 1),\n",
       " ('Leif Ove Andsnes', 1),\n",
       " ('accompanist', 1),\n",
       " ('Marina A. Ledin & Victor Ledin', 1),\n",
       " ('Elaine Martone', 1),\n",
       " ('Laura Heikinheimo', 1),\n",
       " ('Kirk Franklin & Victoria Kelly', 1),\n",
       " ('Lauren Daigle', 1),\n",
       " ('Jason Ingram & Paul Mabury', 1),\n",
       " ('Ludwig Göransson', 1),\n",
       " ('Chris Fogel', 1),\n",
       " ('Scott Fraser', 1),\n",
       " ('Jeannette Sorrell', 1),\n",
       " (\"Apollo's Fire\", 1),\n",
       " ('Erica Brenner', 1),\n",
       " ('Ian Dobie', 1),\n",
       " ('Ian Dobie & Daniel Shores', 1),\n",
       " ('mixers', 1),\n",
       " ('Dwan Hill & Alvin Love III', 1),\n",
       " ('Ben Fielding & Brooke Ligertwood', 1),\n",
       " ('conductor/soloist', 1),\n",
       " ('The Saint Paul Chamber Orchestra', 1),\n",
       " ('Blanton Alspaugh', 1),\n",
       " ('Mark Donahue', 1),\n",
       " ('Sid McLauchlan', 1),\n",
       " ('Marcus Herzog', 1),\n",
       " ('Gary Call', 1),\n",
       " ('Bernie Herms', 1),\n",
       " ('Hillary Scott & Emily Weisband', 1),\n",
       " ('Everett Porter', 1),\n",
       " ('John Fraser', 1),\n",
       " ('Philip Siney', 1),\n",
       " ('Jonathan Low', 1),\n",
       " ('Stephen Johns', 1),\n",
       " ('Aaron W. Lindsey & Smokie Norful', 1),\n",
       " ('Torrance Esmond', 1),\n",
       " ('Ran Jackson', 1),\n",
       " ('Ricky Jackson', 1),\n",
       " ('Kenneth Chris Mackey', 1),\n",
       " ('Lecrae Moore', 1),\n",
       " ('Joseph Prielozny', 1),\n",
       " ('Joel Smallbone & Luke Smallbone', 1),\n",
       " ('Andreas K. Meyer & Julian Schwenker', 1),\n",
       " ('Alan Bise', 1),\n",
       " ('Bruce Egre', 1),\n",
       " ('Jean-Pierre Loisil', 1),\n",
       " ('Thomas Dappelo', 1),\n",
       " ('Manfred Eicher', 1),\n",
       " ('Peter Laenger', 1),\n",
       " ('composers', 1),\n",
       " ('chorus master', 1),\n",
       " ('Riccardo Muti', 1),\n",
       " ('Isabelle Demers & Daniel Sullivan', 1),\n",
       " ('Stephen Roessner', 1),\n",
       " ('Hesperion XXI & La Capella Reial de Catalunya', 1),\n",
       " ('David Frost', 1),\n",
       " ('Tom Lazarus & Tim Martyn', 1),\n",
       " ('Anthony Dean Griffey', 1),\n",
       " ('Patti LuPone & Audra McDonald', 1),\n",
       " ('Fred Vogler', 1),\n",
       " ('Charles Bruffy', 1),\n",
       " ('Phoenix Chorale', 1),\n",
       " ('Yuri Bashmet', 1),\n",
       " ('Moscow Soloists', 1),\n",
       " ('Michael Brammann', 1),\n",
       " ('Klaus Hiemann & Oliver Rogalla Von Heyden', 1),\n",
       " ('engineers', 1),\n",
       " ('Jay David Saks', 1),\n",
       " ('Tony Faulkner', 1),\n",
       " ('John Adams & Lawrence L. Rock', 1),\n",
       " ('Rosalind Ilett', 1),\n",
       " ('Thomas Knab', 1),\n",
       " ('Rainer Maillard', 1),\n",
       " ('Jeff Von Der Schmidt', 1),\n",
       " ('Matthew Snyder', 1),\n",
       " ('Grace Row', 1),\n",
       " ('Charles Harbutt', 1),\n",
       " ('Southwest Chamber Music', 1),\n",
       " ('Norman Mackenzie', 1),\n",
       " ('Thomas Moore', 1),\n",
       " ('Joseph Jennings', 1),\n",
       " ('Preston Smith', 1),\n",
       " ('Ben Heppner', 1),\n",
       " ('Petra Lang', 1),\n",
       " ('Peter Mattei', 1),\n",
       " ('Stephen Milling', 1),\n",
       " ('Sara Mingardo & Kenneth Tarver', 1),\n",
       " ('Arne Akselberg & Truls Mork', 1),\n",
       " ('Arne Akselberg', 1),\n",
       " ('Philipp Nedel', 1),\n",
       " ('Tobias Lehmann', 1),\n",
       " ('Jens Schünemann', 1),\n",
       " ('Wolf-Dieter Karwatky', 1),\n",
       " ('Steven Epstein', 1),\n",
       " ('Joanna Nickrenz', 1),\n",
       " ('Yo-Yo Ma & Richard Stoltzman', 1),\n",
       " ('Dale Clevenger', 1),\n",
       " ('Larry Combs', 1),\n",
       " ('Daniele Damiano & Hansjorg Schellenberger', 1),\n",
       " ('John Aler & John Tomlinson', 1),\n",
       " ('Horst Dittberner', 1),\n",
       " ('June Anderson', 1),\n",
       " ('Nicolai Gedda', 1),\n",
       " ('Adolph Green', 1),\n",
       " ('Jerry Hadley', 1),\n",
       " ('Della Jones', 1),\n",
       " ('Christa Ludwig & Kurt Ollmann', 1),\n",
       " ('Jaime Laredo', 1),\n",
       " ('Yo-Yo Ma & Isaac Stern', 1),\n",
       " ('Evelyn Glennie', 1),\n",
       " ('Murray Perahia & Georg Solti', 1),\n",
       " ('John Strauss', 1),\n",
       " ('Samuel H. Carter', 1),\n",
       " ('Gunther Breest & Michael Horwath', 1),\n",
       " ('Christopher Bishop', 1),\n",
       " ('Dietrich Fischer-Dieskau', 1),\n",
       " ('Vladimir Horowitz', 1),\n",
       " ('Yehudi Menuhin', 1),\n",
       " ('Mstislav Rostropovich', 1),\n",
       " ('Isaac Stern & Lyndon Woodside', 1),\n",
       " ('Artur Rubinstein', 1),\n",
       " ('Max Wilcox', 1),\n",
       " ('Raymond Minshull', 1),\n",
       " ('Thomas Frost & Richard Killough', 1),\n",
       " ('Erik Smith', 1),\n",
       " ('Leonard Rose & Isaac Stern', 1),\n",
       " ('Rachel Elkind', 1),\n",
       " ('Cleveland Brass Ensemble & Philadelphia Brass Ensemble', 1),\n",
       " ('Vittorio Negri & Edward Tarr Brass Ensemble', 1),\n",
       " ('John McClure', 1),\n",
       " ('graphic designer', 1),\n",
       " ('Howard Scott', 1),\n",
       " ('choir director', 1)]"
      ]
     },
     "execution_count": 44,
     "metadata": {},
     "output_type": "execute_result"
    }
   ],
   "source": [
    "roles = (artist_null[\"workers\"]\n",
    "         .dropna()\n",
    "         .apply(\n",
    "             lambda x: \n",
    "                 [role.strip() \n",
    "                  for role in re.split(r'[;,]', x)[1:]]))\n",
    "\n",
    "roles_flat = ([role \n",
    "               for sublist in roles \n",
    "                for role in sublist])\n",
    "\n",
    "role_counts = Counter(roles_flat)\n",
    "\n",
    "role_counts.most_common()"
   ]
  },
  {
   "cell_type": "markdown",
   "id": "a93e405c",
   "metadata": {},
   "source": [
    "Roles of interest"
   ]
  },
  {
   "cell_type": "code",
   "execution_count": 45,
   "id": "5f60018c",
   "metadata": {},
   "outputs": [],
   "source": [
    "roles_of_interest = [\"artist\",\n",
    "                     \"artists\",\n",
    "                     \"composer\",\n",
    "                     \"conductor\",\n",
    "                     \"conductor/soloist\",\n",
    "                     \"choir director\",\n",
    "                     \"chorus master\",\n",
    "                     \"graphic designer\",\n",
    "                     \"soloist\",\n",
    "                     \"soloists\",\n",
    "                     \"ensembles\"]"
   ]
  },
  {
   "cell_type": "markdown",
   "id": "98bbf405",
   "metadata": {},
   "source": [
    "Process solo artists (including those with Featuring credits)"
   ]
  },
  {
   "cell_type": "code",
   "execution_count": 46,
   "id": "7f8271ef",
   "metadata": {},
   "outputs": [],
   "source": [
    "def move_workers_to_artist(row):\n",
    "    if pd.isna(row[\"artist\"]):\n",
    "        workers = row[\"workers\"]\n",
    "        if not re.search(r'[;,]', workers):\n",
    "            return workers\n",
    "    return row[\"artist\"]\n",
    "\n",
    "df[\"artist\"] = df.apply(move_workers_to_artist, axis=1)"
   ]
  },
  {
   "cell_type": "code",
   "execution_count": 47,
   "id": "a11dca2b",
   "metadata": {},
   "outputs": [
    {
     "data": {
      "text/html": [
       "<div>\n",
       "<style scoped>\n",
       "    .dataframe tbody tr th:only-of-type {\n",
       "        vertical-align: middle;\n",
       "    }\n",
       "\n",
       "    .dataframe tbody tr th {\n",
       "        vertical-align: top;\n",
       "    }\n",
       "\n",
       "    .dataframe thead th {\n",
       "        text-align: right;\n",
       "    }\n",
       "</style>\n",
       "<table border=\"1\" class=\"dataframe\">\n",
       "  <thead>\n",
       "    <tr style=\"text-align: right;\">\n",
       "      <th></th>\n",
       "      <th>year</th>\n",
       "      <th>title</th>\n",
       "      <th>category</th>\n",
       "      <th>nominee</th>\n",
       "      <th>artist</th>\n",
       "      <th>workers</th>\n",
       "      <th>is_nominated</th>\n",
       "    </tr>\n",
       "  </thead>\n",
       "  <tbody>\n",
       "    <tr>\n",
       "      <th>192</th>\n",
       "      <td>2019</td>\n",
       "      <td>62nd Annual GRAMMY Awards  (2019)</td>\n",
       "      <td>Best Gospel Performance/Song</td>\n",
       "      <td>See The Light</td>\n",
       "      <td>Travis Greene Featuring Jekalyn Carr</td>\n",
       "      <td>Travis Greene Featuring Jekalyn Carr</td>\n",
       "      <td>True</td>\n",
       "    </tr>\n",
       "    <tr>\n",
       "      <th>193</th>\n",
       "      <td>2019</td>\n",
       "      <td>62nd Annual GRAMMY Awards  (2019)</td>\n",
       "      <td>Best Gospel Performance/Song</td>\n",
       "      <td>Speak The Name</td>\n",
       "      <td>Koryn Hawthorne Featuring Natalie Grant</td>\n",
       "      <td>Koryn Hawthorne Featuring Natalie Grant</td>\n",
       "      <td>True</td>\n",
       "    </tr>\n",
       "    <tr>\n",
       "      <th>402</th>\n",
       "      <td>2019</td>\n",
       "      <td>62nd Annual GRAMMY Awards  (2019)</td>\n",
       "      <td>Best Chamber Music/Small Ensemble Performance</td>\n",
       "      <td>Shaw: Orange</td>\n",
       "      <td>Attacca Quartet</td>\n",
       "      <td>Attacca Quartet</td>\n",
       "      <td>True</td>\n",
       "    </tr>\n",
       "    <tr>\n",
       "      <th>403</th>\n",
       "      <td>2019</td>\n",
       "      <td>62nd Annual GRAMMY Awards  (2019)</td>\n",
       "      <td>Best Chamber Music/Small Ensemble Performance</td>\n",
       "      <td>Cerrone: The Pieces That Fall To Earth</td>\n",
       "      <td>Christopher Rountree &amp; Wild Up</td>\n",
       "      <td>Christopher Rountree &amp; Wild Up</td>\n",
       "      <td>True</td>\n",
       "    </tr>\n",
       "  </tbody>\n",
       "</table>\n",
       "</div>"
      ],
      "text/plain": [
       "     year                              title  \\\n",
       "192  2019  62nd Annual GRAMMY Awards  (2019)   \n",
       "193  2019  62nd Annual GRAMMY Awards  (2019)   \n",
       "402  2019  62nd Annual GRAMMY Awards  (2019)   \n",
       "403  2019  62nd Annual GRAMMY Awards  (2019)   \n",
       "\n",
       "                                          category  \\\n",
       "192                   Best Gospel Performance/Song   \n",
       "193                   Best Gospel Performance/Song   \n",
       "402  Best Chamber Music/Small Ensemble Performance   \n",
       "403  Best Chamber Music/Small Ensemble Performance   \n",
       "\n",
       "                                    nominee  \\\n",
       "192                           See The Light   \n",
       "193                          Speak The Name   \n",
       "402                            Shaw: Orange   \n",
       "403  Cerrone: The Pieces That Fall To Earth   \n",
       "\n",
       "                                      artist  \\\n",
       "192     Travis Greene Featuring Jekalyn Carr   \n",
       "193  Koryn Hawthorne Featuring Natalie Grant   \n",
       "402                          Attacca Quartet   \n",
       "403           Christopher Rountree & Wild Up   \n",
       "\n",
       "                                     workers  is_nominated  \n",
       "192     Travis Greene Featuring Jekalyn Carr          True  \n",
       "193  Koryn Hawthorne Featuring Natalie Grant          True  \n",
       "402                          Attacca Quartet          True  \n",
       "403           Christopher Rountree & Wild Up          True  "
      ]
     },
     "execution_count": 47,
     "metadata": {},
     "output_type": "execute_result"
    }
   ],
   "source": [
    "new_artists = df.loc[artist_index]\n",
    "new_artists.loc[[192, 193, 402, 403]]"
   ]
  },
  {
   "cell_type": "code",
   "execution_count": 48,
   "id": "a67db49f",
   "metadata": {},
   "outputs": [],
   "source": [
    "artist_null = df[df[\"artist\"].isna()]\n",
    "artist_index = artist_null.index"
   ]
  },
  {
   "cell_type": "markdown",
   "id": "9e639f74",
   "metadata": {},
   "source": [
    "Handling semicolons"
   ]
  },
  {
   "cell_type": "code",
   "execution_count": 49,
   "id": "fa9a37bc",
   "metadata": {},
   "outputs": [],
   "source": [
    "def extract_artists_before_semicolon(workers, roles):\n",
    "    parts = workers.split(';')\n",
    "    first_part = parts[0].strip()\n",
    "    if ',' not in first_part and not any(role in first_part for role in roles):\n",
    "        return first_part\n",
    "    return None\n",
    "\n",
    "df[\"artist\"] = df.apply(\n",
    "    lambda row: extract_artists_before_semicolon(row[\"workers\"], roles_of_interest) if pd.isna(row[\"artist\"]) else row[\"artist\"],\n",
    "    axis=1\n",
    ")"
   ]
  },
  {
   "cell_type": "code",
   "execution_count": 50,
   "id": "f1562340",
   "metadata": {},
   "outputs": [
    {
     "data": {
      "text/html": [
       "<div>\n",
       "<style scoped>\n",
       "    .dataframe tbody tr th:only-of-type {\n",
       "        vertical-align: middle;\n",
       "    }\n",
       "\n",
       "    .dataframe tbody tr th {\n",
       "        vertical-align: top;\n",
       "    }\n",
       "\n",
       "    .dataframe thead th {\n",
       "        text-align: right;\n",
       "    }\n",
       "</style>\n",
       "<table border=\"1\" class=\"dataframe\">\n",
       "  <thead>\n",
       "    <tr style=\"text-align: right;\">\n",
       "      <th></th>\n",
       "      <th>year</th>\n",
       "      <th>title</th>\n",
       "      <th>category</th>\n",
       "      <th>nominee</th>\n",
       "      <th>artist</th>\n",
       "      <th>workers</th>\n",
       "      <th>is_nominated</th>\n",
       "    </tr>\n",
       "  </thead>\n",
       "  <tbody>\n",
       "    <tr>\n",
       "      <th>190</th>\n",
       "      <td>2019</td>\n",
       "      <td>62nd Annual GRAMMY Awards  (2019)</td>\n",
       "      <td>Best Gospel Performance/Song</td>\n",
       "      <td>Love Theory</td>\n",
       "      <td>Kirk Franklin</td>\n",
       "      <td>Kirk Franklin; Kirk Franklin, songwriter</td>\n",
       "      <td>True</td>\n",
       "    </tr>\n",
       "    <tr>\n",
       "      <th>191</th>\n",
       "      <td>2019</td>\n",
       "      <td>62nd Annual GRAMMY Awards  (2019)</td>\n",
       "      <td>Best Gospel Performance/Song</td>\n",
       "      <td>Talkin' 'Bout Jesus</td>\n",
       "      <td>Gloria Gaynor Featuring Yolanda Adams</td>\n",
       "      <td>Gloria Gaynor Featuring Yolanda Adams; Bryan F...</td>\n",
       "      <td>True</td>\n",
       "    </tr>\n",
       "    <tr>\n",
       "      <th>196</th>\n",
       "      <td>2019</td>\n",
       "      <td>62nd Annual GRAMMY Awards  (2019)</td>\n",
       "      <td>Best Contemporary Christian Music Performance/...</td>\n",
       "      <td>Only Jesus</td>\n",
       "      <td>Casting Crowns</td>\n",
       "      <td>Casting Crowns; Mark Hall, Bernie Herms &amp; Matt...</td>\n",
       "      <td>True</td>\n",
       "    </tr>\n",
       "    <tr>\n",
       "      <th>197</th>\n",
       "      <td>2019</td>\n",
       "      <td>62nd Annual GRAMMY Awards  (2019)</td>\n",
       "      <td>Best Contemporary Christian Music Performance/...</td>\n",
       "      <td>Haven't Seen It Yet</td>\n",
       "      <td>Danny Gokey</td>\n",
       "      <td>Danny Gokey; Danny Gokey, Ethan Hulse &amp; Colby ...</td>\n",
       "      <td>True</td>\n",
       "    </tr>\n",
       "  </tbody>\n",
       "</table>\n",
       "</div>"
      ],
      "text/plain": [
       "     year                              title  \\\n",
       "190  2019  62nd Annual GRAMMY Awards  (2019)   \n",
       "191  2019  62nd Annual GRAMMY Awards  (2019)   \n",
       "196  2019  62nd Annual GRAMMY Awards  (2019)   \n",
       "197  2019  62nd Annual GRAMMY Awards  (2019)   \n",
       "\n",
       "                                              category              nominee  \\\n",
       "190                       Best Gospel Performance/Song          Love Theory   \n",
       "191                       Best Gospel Performance/Song  Talkin' 'Bout Jesus   \n",
       "196  Best Contemporary Christian Music Performance/...           Only Jesus   \n",
       "197  Best Contemporary Christian Music Performance/...  Haven't Seen It Yet   \n",
       "\n",
       "                                    artist  \\\n",
       "190                          Kirk Franklin   \n",
       "191  Gloria Gaynor Featuring Yolanda Adams   \n",
       "196                         Casting Crowns   \n",
       "197                            Danny Gokey   \n",
       "\n",
       "                                               workers  is_nominated  \n",
       "190           Kirk Franklin; Kirk Franklin, songwriter          True  \n",
       "191  Gloria Gaynor Featuring Yolanda Adams; Bryan F...          True  \n",
       "196  Casting Crowns; Mark Hall, Bernie Herms & Matt...          True  \n",
       "197  Danny Gokey; Danny Gokey, Ethan Hulse & Colby ...          True  "
      ]
     },
     "execution_count": 50,
     "metadata": {},
     "output_type": "execute_result"
    }
   ],
   "source": [
    "new_artists = df.loc[artist_index]\n",
    "new_artists.loc[[190, 191, 196, 197]]"
   ]
  },
  {
   "cell_type": "code",
   "execution_count": 51,
   "id": "00ef8a4c",
   "metadata": {},
   "outputs": [],
   "source": [
    "artist_null = df[df[\"artist\"].isna()]\n",
    "artist_index = artist_null.index"
   ]
  },
  {
   "cell_type": "markdown",
   "id": "58f220f7",
   "metadata": {},
   "source": [
    "Handling commas"
   ]
  },
  {
   "cell_type": "code",
   "execution_count": 52,
   "id": "d100f39e",
   "metadata": {},
   "outputs": [],
   "source": [
    "def extract_roles_based_on_interest(workers, roles):\n",
    "    pattern = r'([^;]+)\\s*(?:,\\s*(?:' + '|'.join(roles) + r'))'\n",
    "    matches = re.findall(pattern, workers)\n",
    "    return \", \".join(matches).strip() if matches else None\n",
    "\n",
    "df[\"artist\"] = df.apply(\n",
    "    lambda row: extract_roles_based_on_interest(row[\"workers\"], roles_of_interest) if pd.isna(row[\"artist\"]) else row[\"artist\"],\n",
    "    axis=1\n",
    ")"
   ]
  },
  {
   "cell_type": "code",
   "execution_count": 53,
   "id": "ea3e3839",
   "metadata": {},
   "outputs": [
    {
     "data": {
      "text/html": [
       "<div>\n",
       "<style scoped>\n",
       "    .dataframe tbody tr th:only-of-type {\n",
       "        vertical-align: middle;\n",
       "    }\n",
       "\n",
       "    .dataframe tbody tr th {\n",
       "        vertical-align: top;\n",
       "    }\n",
       "\n",
       "    .dataframe thead th {\n",
       "        text-align: right;\n",
       "    }\n",
       "</style>\n",
       "<table border=\"1\" class=\"dataframe\">\n",
       "  <thead>\n",
       "    <tr style=\"text-align: right;\">\n",
       "      <th></th>\n",
       "      <th>year</th>\n",
       "      <th>title</th>\n",
       "      <th>category</th>\n",
       "      <th>nominee</th>\n",
       "      <th>artist</th>\n",
       "      <th>workers</th>\n",
       "      <th>is_nominated</th>\n",
       "    </tr>\n",
       "  </thead>\n",
       "  <tbody>\n",
       "    <tr>\n",
       "      <th>163</th>\n",
       "      <td>2015</td>\n",
       "      <td>58th Annual GRAMMY Awards  (2015)</td>\n",
       "      <td>Best Contemporary Classical Composition</td>\n",
       "      <td>Paulus: Prayers &amp; Remembrances</td>\n",
       "      <td>Stephen Paulus</td>\n",
       "      <td>Stephen Paulus, composer</td>\n",
       "      <td>True</td>\n",
       "    </tr>\n",
       "    <tr>\n",
       "      <th>164</th>\n",
       "      <td>2019</td>\n",
       "      <td>62nd Annual GRAMMY Awards  (2019)</td>\n",
       "      <td>Best Improvised Jazz Solo</td>\n",
       "      <td>Sozinho</td>\n",
       "      <td>Randy Brecker</td>\n",
       "      <td>Randy Brecker, soloist</td>\n",
       "      <td>True</td>\n",
       "    </tr>\n",
       "    <tr>\n",
       "      <th>165</th>\n",
       "      <td>2019</td>\n",
       "      <td>62nd Annual GRAMMY Awards  (2019)</td>\n",
       "      <td>Best Improvised Jazz Solo</td>\n",
       "      <td>Elsewhere</td>\n",
       "      <td>Melissa Aldana</td>\n",
       "      <td>Melissa Aldana, soloist</td>\n",
       "      <td>True</td>\n",
       "    </tr>\n",
       "    <tr>\n",
       "      <th>166</th>\n",
       "      <td>2019</td>\n",
       "      <td>62nd Annual GRAMMY Awards  (2019)</td>\n",
       "      <td>Best Improvised Jazz Solo</td>\n",
       "      <td>Tomorrow Is The Question</td>\n",
       "      <td>Julian Lage</td>\n",
       "      <td>Julian Lage, soloist</td>\n",
       "      <td>True</td>\n",
       "    </tr>\n",
       "    <tr>\n",
       "      <th>167</th>\n",
       "      <td>2019</td>\n",
       "      <td>62nd Annual GRAMMY Awards  (2019)</td>\n",
       "      <td>Best Improvised Jazz Solo</td>\n",
       "      <td>The Windup</td>\n",
       "      <td>Branford Marsalis</td>\n",
       "      <td>Branford Marsalis, soloist</td>\n",
       "      <td>True</td>\n",
       "    </tr>\n",
       "  </tbody>\n",
       "</table>\n",
       "</div>"
      ],
      "text/plain": [
       "     year                              title  \\\n",
       "163  2015  58th Annual GRAMMY Awards  (2015)   \n",
       "164  2019  62nd Annual GRAMMY Awards  (2019)   \n",
       "165  2019  62nd Annual GRAMMY Awards  (2019)   \n",
       "166  2019  62nd Annual GRAMMY Awards  (2019)   \n",
       "167  2019  62nd Annual GRAMMY Awards  (2019)   \n",
       "\n",
       "                                    category                         nominee  \\\n",
       "163  Best Contemporary Classical Composition  Paulus: Prayers & Remembrances   \n",
       "164                Best Improvised Jazz Solo                         Sozinho   \n",
       "165                Best Improvised Jazz Solo                       Elsewhere   \n",
       "166                Best Improvised Jazz Solo        Tomorrow Is The Question   \n",
       "167                Best Improvised Jazz Solo                      The Windup   \n",
       "\n",
       "                artist                     workers  is_nominated  \n",
       "163     Stephen Paulus    Stephen Paulus, composer          True  \n",
       "164      Randy Brecker      Randy Brecker, soloist          True  \n",
       "165     Melissa Aldana     Melissa Aldana, soloist          True  \n",
       "166        Julian Lage        Julian Lage, soloist          True  \n",
       "167  Branford Marsalis  Branford Marsalis, soloist          True  "
      ]
     },
     "execution_count": 53,
     "metadata": {},
     "output_type": "execute_result"
    }
   ],
   "source": [
    "new_artists = df.loc[artist_index]\n",
    "new_artists.head()"
   ]
  },
  {
   "cell_type": "code",
   "execution_count": 54,
   "id": "d598d90c",
   "metadata": {},
   "outputs": [
    {
     "data": {
      "text/plain": [
       "year               0\n",
       "title              0\n",
       "category           0\n",
       "nominee            0\n",
       "artist             5\n",
       "workers         2156\n",
       "is_nominated       0\n",
       "dtype: int64"
      ]
     },
     "execution_count": 54,
     "metadata": {},
     "output_type": "execute_result"
    }
   ],
   "source": [
    "df.isna().sum()"
   ]
  },
  {
   "cell_type": "markdown",
   "id": "8420e8bb",
   "metadata": {},
   "source": [
    "Since the entries here only include producers and engineers/mixers—and none of the previously selected categories—we can go ahead and remove these rows."
   ]
  },
  {
   "cell_type": "code",
   "execution_count": 55,
   "id": "850d1b64",
   "metadata": {},
   "outputs": [
    {
     "data": {
      "text/html": [
       "<div>\n",
       "<style scoped>\n",
       "    .dataframe tbody tr th:only-of-type {\n",
       "        vertical-align: middle;\n",
       "    }\n",
       "\n",
       "    .dataframe tbody tr th {\n",
       "        vertical-align: top;\n",
       "    }\n",
       "\n",
       "    .dataframe thead th {\n",
       "        text-align: right;\n",
       "    }\n",
       "</style>\n",
       "<table border=\"1\" class=\"dataframe\">\n",
       "  <thead>\n",
       "    <tr style=\"text-align: right;\">\n",
       "      <th></th>\n",
       "      <th>year</th>\n",
       "      <th>title</th>\n",
       "      <th>category</th>\n",
       "      <th>nominee</th>\n",
       "      <th>artist</th>\n",
       "      <th>workers</th>\n",
       "      <th>is_nominated</th>\n",
       "    </tr>\n",
       "  </thead>\n",
       "  <tbody>\n",
       "    <tr>\n",
       "      <th>777</th>\n",
       "      <td>2015</td>\n",
       "      <td>58th Annual GRAMMY Awards  (2015)</td>\n",
       "      <td>Best Chamber Music/Small Ensemble Performance</td>\n",
       "      <td>Filament</td>\n",
       "      <td>None</td>\n",
       "      <td>Bryce Dessner, producer; Jonathan Low, engineer</td>\n",
       "      <td>True</td>\n",
       "    </tr>\n",
       "    <tr>\n",
       "      <th>861</th>\n",
       "      <td>2014</td>\n",
       "      <td>57th Annual GRAMMY Awards  (2014)</td>\n",
       "      <td>Best Chamber Music/Small Ensemble Performance</td>\n",
       "      <td>In 27 Pieces - The Hilary Hahn Encores</td>\n",
       "      <td>None</td>\n",
       "      <td>Hilary Hahn &amp; Andreas K. Meyer, producers; And...</td>\n",
       "      <td>True</td>\n",
       "    </tr>\n",
       "    <tr>\n",
       "      <th>1869</th>\n",
       "      <td>2004</td>\n",
       "      <td>47th Annual GRAMMY Awards  (2004)</td>\n",
       "      <td>Best Chamber Music Performance</td>\n",
       "      <td>Prokofiev (Arr. Pletnev): Cinderella - Suite F...</td>\n",
       "      <td>None</td>\n",
       "      <td>Christian Gansch, producer; Rainer Maillard, e...</td>\n",
       "      <td>True</td>\n",
       "    </tr>\n",
       "    <tr>\n",
       "      <th>2182</th>\n",
       "      <td>2001</td>\n",
       "      <td>44th Annual GRAMMY Awards  (2001)</td>\n",
       "      <td>Best Small Ensemble Performance (with or witho...</td>\n",
       "      <td>After Mozart - Raskatov, Silvestrov &amp; Schnittke</td>\n",
       "      <td>None</td>\n",
       "      <td>Gidon Kremer &amp; Helmut Mühle, producers; Philip...</td>\n",
       "      <td>True</td>\n",
       "    </tr>\n",
       "    <tr>\n",
       "      <th>2285</th>\n",
       "      <td>2000</td>\n",
       "      <td>43rd Annual GRAMMY Awards  (2000)</td>\n",
       "      <td>Best Small Ensemble Performance (with or witho...</td>\n",
       "      <td>Shadow Dances - Stravinsky Miniatures, Tango, ...</td>\n",
       "      <td>None</td>\n",
       "      <td>Christian Gansch, producer; Wolf-Dieter Karwat...</td>\n",
       "      <td>True</td>\n",
       "    </tr>\n",
       "  </tbody>\n",
       "</table>\n",
       "</div>"
      ],
      "text/plain": [
       "      year                              title  \\\n",
       "777   2015  58th Annual GRAMMY Awards  (2015)   \n",
       "861   2014  57th Annual GRAMMY Awards  (2014)   \n",
       "1869  2004  47th Annual GRAMMY Awards  (2004)   \n",
       "2182  2001  44th Annual GRAMMY Awards  (2001)   \n",
       "2285  2000  43rd Annual GRAMMY Awards  (2000)   \n",
       "\n",
       "                                               category  \\\n",
       "777       Best Chamber Music/Small Ensemble Performance   \n",
       "861       Best Chamber Music/Small Ensemble Performance   \n",
       "1869                     Best Chamber Music Performance   \n",
       "2182  Best Small Ensemble Performance (with or witho...   \n",
       "2285  Best Small Ensemble Performance (with or witho...   \n",
       "\n",
       "                                                nominee artist  \\\n",
       "777                                            Filament   None   \n",
       "861              In 27 Pieces - The Hilary Hahn Encores   None   \n",
       "1869  Prokofiev (Arr. Pletnev): Cinderella - Suite F...   None   \n",
       "2182    After Mozart - Raskatov, Silvestrov & Schnittke   None   \n",
       "2285  Shadow Dances - Stravinsky Miniatures, Tango, ...   None   \n",
       "\n",
       "                                                workers  is_nominated  \n",
       "777     Bryce Dessner, producer; Jonathan Low, engineer          True  \n",
       "861   Hilary Hahn & Andreas K. Meyer, producers; And...          True  \n",
       "1869  Christian Gansch, producer; Rainer Maillard, e...          True  \n",
       "2182  Gidon Kremer & Helmut Mühle, producers; Philip...          True  \n",
       "2285  Christian Gansch, producer; Wolf-Dieter Karwat...          True  "
      ]
     },
     "execution_count": 55,
     "metadata": {},
     "output_type": "execute_result"
    }
   ],
   "source": [
    "artist_null = df.loc[df[\"artist\"].isnull()]\n",
    "artist_null"
   ]
  },
  {
   "cell_type": "code",
   "execution_count": 56,
   "id": "af0a39bd",
   "metadata": {},
   "outputs": [],
   "source": [
    "df = df.dropna(subset=[\"artist\"])"
   ]
  },
  {
   "cell_type": "markdown",
   "id": "1749e09b",
   "metadata": {},
   "source": [
    "Additionally, \n",
    "as previously mentioned, we’re going to drop the workers column, since its only purpose was to assist with the transformations applied to the artist column."
   ]
  },
  {
   "cell_type": "code",
   "execution_count": 57,
   "id": "35c495d3",
   "metadata": {},
   "outputs": [],
   "source": [
    "df = df.drop(columns=[\"workers\"])"
   ]
  },
  {
   "cell_type": "code",
   "execution_count": 58,
   "id": "65711d9f",
   "metadata": {},
   "outputs": [
    {
     "data": {
      "text/html": [
       "<div>\n",
       "<style scoped>\n",
       "    .dataframe tbody tr th:only-of-type {\n",
       "        vertical-align: middle;\n",
       "    }\n",
       "\n",
       "    .dataframe tbody tr th {\n",
       "        vertical-align: top;\n",
       "    }\n",
       "\n",
       "    .dataframe thead th {\n",
       "        text-align: right;\n",
       "    }\n",
       "</style>\n",
       "<table border=\"1\" class=\"dataframe\">\n",
       "  <thead>\n",
       "    <tr style=\"text-align: right;\">\n",
       "      <th></th>\n",
       "      <th>year</th>\n",
       "      <th>title</th>\n",
       "      <th>category</th>\n",
       "      <th>nominee</th>\n",
       "      <th>artist</th>\n",
       "      <th>is_nominated</th>\n",
       "    </tr>\n",
       "  </thead>\n",
       "  <tbody>\n",
       "    <tr>\n",
       "      <th>0</th>\n",
       "      <td>2019</td>\n",
       "      <td>62nd Annual GRAMMY Awards  (2019)</td>\n",
       "      <td>Record Of The Year</td>\n",
       "      <td>Bad Guy</td>\n",
       "      <td>Billie Eilish</td>\n",
       "      <td>True</td>\n",
       "    </tr>\n",
       "    <tr>\n",
       "      <th>1</th>\n",
       "      <td>2019</td>\n",
       "      <td>62nd Annual GRAMMY Awards  (2019)</td>\n",
       "      <td>Record Of The Year</td>\n",
       "      <td>Hey, Ma</td>\n",
       "      <td>Bon Iver</td>\n",
       "      <td>True</td>\n",
       "    </tr>\n",
       "    <tr>\n",
       "      <th>2</th>\n",
       "      <td>2019</td>\n",
       "      <td>62nd Annual GRAMMY Awards  (2019)</td>\n",
       "      <td>Record Of The Year</td>\n",
       "      <td>7 rings</td>\n",
       "      <td>Ariana Grande</td>\n",
       "      <td>True</td>\n",
       "    </tr>\n",
       "    <tr>\n",
       "      <th>3</th>\n",
       "      <td>2019</td>\n",
       "      <td>62nd Annual GRAMMY Awards  (2019)</td>\n",
       "      <td>Record Of The Year</td>\n",
       "      <td>Hard Place</td>\n",
       "      <td>H.E.R.</td>\n",
       "      <td>True</td>\n",
       "    </tr>\n",
       "    <tr>\n",
       "      <th>4</th>\n",
       "      <td>2019</td>\n",
       "      <td>62nd Annual GRAMMY Awards  (2019)</td>\n",
       "      <td>Record Of The Year</td>\n",
       "      <td>Talk</td>\n",
       "      <td>Khalid</td>\n",
       "      <td>True</td>\n",
       "    </tr>\n",
       "  </tbody>\n",
       "</table>\n",
       "</div>"
      ],
      "text/plain": [
       "   year                              title            category     nominee  \\\n",
       "0  2019  62nd Annual GRAMMY Awards  (2019)  Record Of The Year     Bad Guy   \n",
       "1  2019  62nd Annual GRAMMY Awards  (2019)  Record Of The Year     Hey, Ma   \n",
       "2  2019  62nd Annual GRAMMY Awards  (2019)  Record Of The Year     7 rings   \n",
       "3  2019  62nd Annual GRAMMY Awards  (2019)  Record Of The Year  Hard Place   \n",
       "4  2019  62nd Annual GRAMMY Awards  (2019)  Record Of The Year        Talk   \n",
       "\n",
       "          artist  is_nominated  \n",
       "0  Billie Eilish          True  \n",
       "1       Bon Iver          True  \n",
       "2  Ariana Grande          True  \n",
       "3         H.E.R.          True  \n",
       "4         Khalid          True  "
      ]
     },
     "execution_count": 58,
     "metadata": {},
     "output_type": "execute_result"
    }
   ],
   "source": [
    "\n",
    "df.head()"
   ]
  },
  {
   "cell_type": "code",
   "execution_count": 59,
   "id": "f5892e98",
   "metadata": {},
   "outputs": [
    {
     "data": {
      "text/plain": [
       "artist\n",
       "(Various Artists)                                          66\n",
       "Various Artists                                            43\n",
       "Chicago Symphony Orchestra                                 29\n",
       "John Williams                                              24\n",
       "Henry Mancini                                              22\n",
       "                                                           ..\n",
       "Norman Luboff Choir                                         1\n",
       "Royal Philharmonic Chorus; Royal Philharmonic Orchestra     1\n",
       "Aaron Copland                                               1\n",
       "Frank Sinatra And Original Cast                             1\n",
       "Mary Martin And Original Broadway Cast                      1\n",
       "Name: count, Length: 2463, dtype: int64"
      ]
     },
     "execution_count": 59,
     "metadata": {},
     "output_type": "execute_result"
    }
   ],
   "source": [
    "df[\"artist\"].value_counts()"
   ]
  },
  {
   "cell_type": "markdown",
   "id": "fb38453c",
   "metadata": {},
   "source": [
    "let's try to replace the value \"(Various Artists)\" in column \"artist\" for \"Various Artists\""
   ]
  },
  {
   "cell_type": "code",
   "execution_count": 60,
   "id": "00a94fe6",
   "metadata": {},
   "outputs": [],
   "source": [
    "df[\"artist\"] = df[\"artist\"].replace({\"(Various Artists)\": \"Various Artists\"})"
   ]
  },
  {
   "cell_type": "code",
   "execution_count": 61,
   "id": "7625e298",
   "metadata": {},
   "outputs": [
    {
     "data": {
      "text/plain": [
       "artist\n",
       "Various Artists                                            109\n",
       "Chicago Symphony Orchestra                                  29\n",
       "John Williams                                               24\n",
       "Henry Mancini                                               22\n",
       "Vladimir Horowitz                                           20\n",
       "                                                          ... \n",
       "Norman Luboff Choir                                          1\n",
       "Royal Philharmonic Chorus; Royal Philharmonic Orchestra      1\n",
       "Aaron Copland                                                1\n",
       "Frank Sinatra And Original Cast                              1\n",
       "Mary Martin And Original Broadway Cast                       1\n",
       "Name: count, Length: 2462, dtype: int64"
      ]
     },
     "execution_count": 61,
     "metadata": {},
     "output_type": "execute_result"
    }
   ],
   "source": [
    "df[\"artist\"].value_counts()"
   ]
  },
  {
   "cell_type": "code",
   "execution_count": 63,
   "id": "d9eae113",
   "metadata": {},
   "outputs": [
    {
     "data": {
      "image/png": "[encoded data removed]",
      "text/plain": [
       "<Figure size 1000x600 with 1 Axes>"
      ]
     },
     "metadata": {},
     "output_type": "display_data"
    }
   ],
   "source": [
    "nominations_per_year = df[\"year\"].value_counts().sort_index()\n",
    "\n",
    "plt.figure(figsize=(10, 6))\n",
    "\n",
    "nominations_per_year.plot(kind=\"bar\", color=\"plum\")\n",
    "\n",
    "plt.title(\"Number of Nominations per Year\")\n",
    "plt.xlabel(\"Year\")\n",
    "plt.ylabel(\"Number of Nominations\")\n",
    "\n",
    "plt.xticks(rotation=45)\n",
    "\n",
    "plt.show()"
   ]
  },
  {
   "cell_type": "markdown",
   "id": "e880a318",
   "metadata": {},
   "source": [
    "Try again but whit this transformation"
   ]
  },
  {
   "cell_type": "code",
   "execution_count": 64,
   "id": "51e20995",
   "metadata": {},
   "outputs": [],
   "source": [
    "awarded_data = df.copy()"
   ]
  },
  {
   "cell_type": "code",
   "execution_count": 65,
   "id": "98df10df",
   "metadata": {},
   "outputs": [
    {
     "data": {
      "text/html": [
       "<div>\n",
       "<style scoped>\n",
       "    .dataframe tbody tr th:only-of-type {\n",
       "        vertical-align: middle;\n",
       "    }\n",
       "\n",
       "    .dataframe tbody tr th {\n",
       "        vertical-align: top;\n",
       "    }\n",
       "\n",
       "    .dataframe thead th {\n",
       "        text-align: right;\n",
       "    }\n",
       "</style>\n",
       "<table border=\"1\" class=\"dataframe\">\n",
       "  <thead>\n",
       "    <tr style=\"text-align: right;\">\n",
       "      <th></th>\n",
       "      <th>year</th>\n",
       "      <th>title</th>\n",
       "      <th>category</th>\n",
       "      <th>nominee</th>\n",
       "      <th>artist</th>\n",
       "      <th>is_nominated</th>\n",
       "      <th>decade</th>\n",
       "    </tr>\n",
       "  </thead>\n",
       "  <tbody>\n",
       "    <tr>\n",
       "      <th>0</th>\n",
       "      <td>2019</td>\n",
       "      <td>62nd Annual GRAMMY Awards  (2019)</td>\n",
       "      <td>Record Of The Year</td>\n",
       "      <td>Bad Guy</td>\n",
       "      <td>Billie Eilish</td>\n",
       "      <td>True</td>\n",
       "      <td>2010</td>\n",
       "    </tr>\n",
       "    <tr>\n",
       "      <th>1</th>\n",
       "      <td>2019</td>\n",
       "      <td>62nd Annual GRAMMY Awards  (2019)</td>\n",
       "      <td>Record Of The Year</td>\n",
       "      <td>Hey, Ma</td>\n",
       "      <td>Bon Iver</td>\n",
       "      <td>True</td>\n",
       "      <td>2010</td>\n",
       "    </tr>\n",
       "    <tr>\n",
       "      <th>2</th>\n",
       "      <td>2019</td>\n",
       "      <td>62nd Annual GRAMMY Awards  (2019)</td>\n",
       "      <td>Record Of The Year</td>\n",
       "      <td>7 rings</td>\n",
       "      <td>Ariana Grande</td>\n",
       "      <td>True</td>\n",
       "      <td>2010</td>\n",
       "    </tr>\n",
       "    <tr>\n",
       "      <th>3</th>\n",
       "      <td>2019</td>\n",
       "      <td>62nd Annual GRAMMY Awards  (2019)</td>\n",
       "      <td>Record Of The Year</td>\n",
       "      <td>Hard Place</td>\n",
       "      <td>H.E.R.</td>\n",
       "      <td>True</td>\n",
       "      <td>2010</td>\n",
       "    </tr>\n",
       "    <tr>\n",
       "      <th>4</th>\n",
       "      <td>2019</td>\n",
       "      <td>62nd Annual GRAMMY Awards  (2019)</td>\n",
       "      <td>Record Of The Year</td>\n",
       "      <td>Talk</td>\n",
       "      <td>Khalid</td>\n",
       "      <td>True</td>\n",
       "      <td>2010</td>\n",
       "    </tr>\n",
       "    <tr>\n",
       "      <th>...</th>\n",
       "      <td>...</td>\n",
       "      <td>...</td>\n",
       "      <td>...</td>\n",
       "      <td>...</td>\n",
       "      <td>...</td>\n",
       "      <td>...</td>\n",
       "      <td>...</td>\n",
       "    </tr>\n",
       "    <tr>\n",
       "      <th>4804</th>\n",
       "      <td>1958</td>\n",
       "      <td>1st Annual GRAMMY Awards  (1958)</td>\n",
       "      <td>Best Classical Performance - Orchestra</td>\n",
       "      <td>Gaiete Parisienne</td>\n",
       "      <td>Hollywood Bowl Orchestra</td>\n",
       "      <td>True</td>\n",
       "      <td>1950</td>\n",
       "    </tr>\n",
       "    <tr>\n",
       "      <th>4805</th>\n",
       "      <td>1958</td>\n",
       "      <td>1st Annual GRAMMY Awards  (1958)</td>\n",
       "      <td>Best Classical Performance - Instrumentalist (...</td>\n",
       "      <td>Tchaikovsky: Piano Concerto No. 1 In B Flat Mi...</td>\n",
       "      <td>Symphony Of The Air Orchestra</td>\n",
       "      <td>True</td>\n",
       "      <td>1950</td>\n",
       "    </tr>\n",
       "    <tr>\n",
       "      <th>4806</th>\n",
       "      <td>1958</td>\n",
       "      <td>1st Annual GRAMMY Awards  (1958)</td>\n",
       "      <td>Best Classical Performance - Instrumentalist (...</td>\n",
       "      <td>Segovia Golden Jubilee</td>\n",
       "      <td>Andres Segovia</td>\n",
       "      <td>True</td>\n",
       "      <td>1950</td>\n",
       "    </tr>\n",
       "    <tr>\n",
       "      <th>4807</th>\n",
       "      <td>1958</td>\n",
       "      <td>1st Annual GRAMMY Awards  (1958)</td>\n",
       "      <td>Best Classical Performance - Chamber Music (In...</td>\n",
       "      <td>Beethoven: Quartet 130</td>\n",
       "      <td>Alvin Dinkin, Paul Shure, Eleanor Aller Slatki...</td>\n",
       "      <td>True</td>\n",
       "      <td>1950</td>\n",
       "    </tr>\n",
       "    <tr>\n",
       "      <th>4809</th>\n",
       "      <td>1958</td>\n",
       "      <td>1st Annual GRAMMY Awards  (1958)</td>\n",
       "      <td>Best Classical Performance - Operatic Or Choral</td>\n",
       "      <td>Virtuoso</td>\n",
       "      <td>Roger Wagner</td>\n",
       "      <td>True</td>\n",
       "      <td>1950</td>\n",
       "    </tr>\n",
       "  </tbody>\n",
       "</table>\n",
       "<p>4771 rows × 7 columns</p>\n",
       "</div>"
      ],
      "text/plain": [
       "      year                              title  \\\n",
       "0     2019  62nd Annual GRAMMY Awards  (2019)   \n",
       "1     2019  62nd Annual GRAMMY Awards  (2019)   \n",
       "2     2019  62nd Annual GRAMMY Awards  (2019)   \n",
       "3     2019  62nd Annual GRAMMY Awards  (2019)   \n",
       "4     2019  62nd Annual GRAMMY Awards  (2019)   \n",
       "...    ...                                ...   \n",
       "4804  1958   1st Annual GRAMMY Awards  (1958)   \n",
       "4805  1958   1st Annual GRAMMY Awards  (1958)   \n",
       "4806  1958   1st Annual GRAMMY Awards  (1958)   \n",
       "4807  1958   1st Annual GRAMMY Awards  (1958)   \n",
       "4809  1958   1st Annual GRAMMY Awards  (1958)   \n",
       "\n",
       "                                               category  \\\n",
       "0                                    Record Of The Year   \n",
       "1                                    Record Of The Year   \n",
       "2                                    Record Of The Year   \n",
       "3                                    Record Of The Year   \n",
       "4                                    Record Of The Year   \n",
       "...                                                 ...   \n",
       "4804             Best Classical Performance - Orchestra   \n",
       "4805  Best Classical Performance - Instrumentalist (...   \n",
       "4806  Best Classical Performance - Instrumentalist (...   \n",
       "4807  Best Classical Performance - Chamber Music (In...   \n",
       "4809    Best Classical Performance - Operatic Or Choral   \n",
       "\n",
       "                                                nominee  \\\n",
       "0                                               Bad Guy   \n",
       "1                                               Hey, Ma   \n",
       "2                                               7 rings   \n",
       "3                                            Hard Place   \n",
       "4                                                  Talk   \n",
       "...                                                 ...   \n",
       "4804                                  Gaiete Parisienne   \n",
       "4805  Tchaikovsky: Piano Concerto No. 1 In B Flat Mi...   \n",
       "4806                             Segovia Golden Jubilee   \n",
       "4807                             Beethoven: Quartet 130   \n",
       "4809                                           Virtuoso   \n",
       "\n",
       "                                                 artist  is_nominated  decade  \n",
       "0                                         Billie Eilish          True    2010  \n",
       "1                                              Bon Iver          True    2010  \n",
       "2                                         Ariana Grande          True    2010  \n",
       "3                                                H.E.R.          True    2010  \n",
       "4                                                Khalid          True    2010  \n",
       "...                                                 ...           ...     ...  \n",
       "4804                           Hollywood Bowl Orchestra          True    1950  \n",
       "4805                      Symphony Of The Air Orchestra          True    1950  \n",
       "4806                                     Andres Segovia          True    1950  \n",
       "4807  Alvin Dinkin, Paul Shure, Eleanor Aller Slatki...          True    1950  \n",
       "4809                                       Roger Wagner          True    1950  \n",
       "\n",
       "[4771 rows x 7 columns]"
      ]
     },
     "execution_count": 65,
     "metadata": {},
     "output_type": "execute_result"
    }
   ],
   "source": [
    "awarded_data[\"decade\"] = (awarded_data[\"year\"] // 10) * 10\n",
    "awarded_data"
   ]
  },
  {
   "cell_type": "markdown",
   "id": "3c4aed78",
   "metadata": {},
   "source": [
    "Now this looks better"
   ]
  },
  {
   "cell_type": "code",
   "execution_count": 66,
   "id": "e3bd2034",
   "metadata": {},
   "outputs": [
    {
     "data": {
      "image/png": "[encoded data removed]",
      "text/plain": [
       "<Figure size 1000x600 with 1 Axes>"
      ]
     },
     "metadata": {},
     "output_type": "display_data"
    }
   ],
   "source": [
    "nominations_per_decade = awarded_data[\"decade\"].value_counts().sort_index()\n",
    "\n",
    "plt.figure(figsize=(10, 6))\n",
    "\n",
    "nominations_per_decade.plot(kind=\"bar\", color=\"plum\")\n",
    "\n",
    "plt.title(\"Number of Nominations per Decade\")\n",
    "plt.xlabel(\"Decade\")\n",
    "plt.ylabel(\"Number of Nominations\")\n",
    "\n",
    "plt.xticks(rotation=45)\n",
    "\n",
    "plt.show()"
   ]
  },
  {
   "cell_type": "markdown",
   "id": "38b65576",
   "metadata": {},
   "source": [
    "Top Nominated Artists by Decade\n",
    "\n",
    "The chart reveals that some artists consistently stood out in specific time periods. For example, Michael Jackson was the most nominated artist in the 1980s, whereas Adele took the lead in the 2010s. This analysis underscores how artists' prominence and industry recognition can shift greatly from decade to decade."
   ]
  },
  {
   "cell_type": "code",
   "execution_count": 67,
   "id": "50d72099",
   "metadata": {},
   "outputs": [
    {
     "data": {
      "image/png": "[encoded data removed]",
      "text/plain": [
       "<Figure size 1200x800 with 1 Axes>"
      ]
     },
     "metadata": {},
     "output_type": "display_data"
    }
   ],
   "source": [
    "filtered_awarded_data = awarded_data[awarded_data[\"artist\"] != \"Various Artists\"]\n",
    "\n",
    "most_nominated_per_decade = (filtered_awarded_data.groupby([\"decade\", \"artist\"])\n",
    "                             .size()\n",
    "                             .reset_index(name=\"count\")\n",
    "                             .sort_values([\"decade\", \"count\"], ascending=[True, False])\n",
    "                             .drop_duplicates(subset=[\"decade\"]))\n",
    "\n",
    "plt.figure(figsize=(12, 8))\n",
    "\n",
    "sns.barplot(x=\"decade\",\n",
    "            y=\"count\",\n",
    "            hue=\"artist\",\n",
    "            dodge=False,\n",
    "            data=most_nominated_per_decade,\n",
    "            palette=\"viridis\")\n",
    "\n",
    "plt.title(\"Most Nominated Artist per Decade\")\n",
    "plt.xlabel(\"Decade\")\n",
    "plt.ylabel(\"Number of Nominations\")\n",
    "plt.legend(title=\"Artist\", bbox_to_anchor=(1.05, 1), loc=\"upper left\")\n",
    "\n",
    "plt.show()"
   ]
  },
  {
   "cell_type": "code",
   "execution_count": null,
   "id": "bd2e3796",
   "metadata": {},
   "outputs": [],
   "source": [
    "df['artist'].to_csv('../Data/artist.csv', index=False)"
   ]
  }
 ],
 "metadata": {
  "kernelspec": {
   "display_name": "venv",
   "language": "python",
   "name": "python3"
  },
  "language_info": {
   "codemirror_mode": {
    "name": "ipython",
    "version": 3
   },
   "file_extension": ".py",
   "mimetype": "text/x-python",
   "name": "python",
   "nbconvert_exporter": "python",
   "pygments_lexer": "ipython3",
   "version": "3.11.4"
  }
 },
 "nbformat": 4,
 "nbformat_minor": 5
}
