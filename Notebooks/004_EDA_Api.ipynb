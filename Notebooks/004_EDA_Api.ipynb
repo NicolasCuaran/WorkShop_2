{
 "cells": [
  {
   "cell_type": "code",
   "execution_count": null,
   "id": "1398d328",
   "metadata": {},
   "outputs": [
    {
     "name": "stdout",
     "output_type": "stream",
     "text": [
      "🎵 Total de artistas únicos: 2691\n"
     ]
    }
   ],
   "source": [
    "import pandas as pd\n",
    "import requests\n",
    "import time\n",
    "import re\n",
    "\n",
    "# Leer el archivo de Spotify (ajusta el path si es necesario)\n",
    "df_spotify = pd.read_csv(\"artist.csv\")\n",
    "\n",
    "artistas_raw = df_spotify['artist'].dropna().unique()\n",
    "artistas = set()\n",
    "\n",
    "# Función para separar artistas con múltiples delimitadores\n",
    "def split_artists(texto):\n",
    "    # Reemplazar \"Featuring\" por un delimitador temporal (e.g., \";\") y limpiar\n",
    "    texto = re.sub(r'\\s*Featuring\\s*', ',', texto, flags=re.IGNORECASE)\n",
    "    # Separar por \";\" y \"&\"\n",
    "    partes = re.split(r'[;&]', texto)\n",
    "    # Limpiar cada artista y devolver lista\n",
    "    return [artista.strip() for artista in partes if artista.strip()]\n",
    "\n",
    "# Procesar cada grupo de artistas\n",
    "for grupo in artistas_raw:\n",
    "    for artista in split_artists(grupo):\n",
    "        artistas.add(artista)\n",
    "\n",
    "print(f\" Total de artistas únicos: {len(artistas)}\")\n"
   ]
  },
  {
   "cell_type": "code",
   "execution_count": null,
   "id": "1e91b757",
   "metadata": {},
   "outputs": [
    {
     "name": "stdout",
     "output_type": "stream",
     "text": [
      "✅ Datos de MusicBrainz guardados en api_data.csv.\n"
     ]
    }
   ],
   "source": [
    "# Consultar MusicBrainz para cada artista\n",
    "headers = {'User-Agent': 'ETLWorkshop/1.0 (tucorreo@dominio.com)'}\n",
    "datos_artistas = []\n",
    "\n",
    "for artist in list(artistas):\n",
    "    query = artist.replace(\" \", \"+\")\n",
    "    url = f\"https://musicbrainz.org/ws/2/artist/?query=artist:{query}&fmt=json&limit=1\"\n",
    "    \n",
    "    response = requests.get(url, headers=headers)\n",
    "    if response.status_code == 200:\n",
    "        data = response.json()\n",
    "        if data['artists']:\n",
    "            a = data['artists'][0]\n",
    "            datos_artistas.append({\n",
    "                'artist_name': artist,\n",
    "                'artist_id': a.get('id'),\n",
    "                'country': a.get('country'),\n",
    "                'begin_date': a.get('life-span', {}).get('begin'),\n",
    "                'end_date': a.get('life-span', {}).get('end'),\n",
    "                'type': a.get('type'),\n",
    "                'gender': a.get('gender'),\n",
    "                'disambiguation': a.get('disambiguation')\n",
    "            })\n",
    "    else:\n",
    "        print(f\" Error con {artist}: {response.status_code}\")\n",
    "    \n",
    "    time.sleep(1)\n",
    "\n",
    "# Guardar como CSV\n",
    "df_api = pd.DataFrame(datos_artistas)\n",
    "df_api.to_csv(\"api_data.csv\")\n",
    "\n",
    "print(\"✅ Datos de MusicBrainz guardados en api_data.csv.\")"
   ]
  },
  {
   "cell_type": "code",
   "execution_count": null,
   "id": "31bf01b3",
   "metadata": {},
   "outputs": [],
   "source": []
  }
 ],
 "metadata": {
  "kernelspec": {
   "display_name": "venv",
   "language": "python",
   "name": "python3"
  },
  "language_info": {
   "codemirror_mode": {
    "name": "ipython",
    "version": 3
   },
   "file_extension": ".py",
   "mimetype": "text/x-python",
   "name": "python",
   "nbconvert_exporter": "python",
   "pygments_lexer": "ipython3",
   "version": "3.11.4"
  }
 },
 "nbformat": 4,
 "nbformat_minor": 5
}
